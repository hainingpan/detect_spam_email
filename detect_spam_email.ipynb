{
 "cells": [
  {
   "cell_type": "code",
   "execution_count": 1,
   "metadata": {},
   "outputs": [],
   "source": [
    "import glob\n",
    "import os\n",
    "import numpy as np\n",
    "import matplotlib.pyplot as plt\n",
    "from collections import defaultdict\n",
    "import pandas as pd"
   ]
  },
  {
   "cell_type": "markdown",
   "metadata": {},
   "source": [
    "# Fetch data"
   ]
  },
  {
   "cell_type": "code",
   "execution_count": 2,
   "metadata": {},
   "outputs": [
    {
     "name": "stdout",
     "output_type": "stream",
     "text": [
      "downloading.. 1\n",
      "downloading.. 2\n",
      "downloading.. 3\n",
      "downloading.. 4\n",
      "downloading.. 5\n",
      "downloading.. 6\n"
     ]
    }
   ],
   "source": [
    "from urllib.request import urlretrieve\n",
    "for i in range(1,7):\n",
    "    print('downloading.. {}'.format(i))\n",
    "    filename, headers = urlretrieve('http://www.aueb.gr/users/ion/data/enron-spam/preprocessed/enron{}.tar.gz'.format(i), './enron{}.tar.gz'.format(i))"
   ]
  },
  {
   "cell_type": "code",
   "execution_count": 12,
   "metadata": {},
   "outputs": [
    {
     "name": "stdout",
     "output_type": "stream",
     "text": [
      "Uncompressing... 1\n",
      "Uncompressing... 2\n",
      "Uncompressing... 3\n",
      "Uncompressing... 4\n",
      "Uncompressing... 5\n",
      "Uncompressing... 6\n"
     ]
    }
   ],
   "source": [
    "import tarfile\n",
    "for i in range(1,7):\n",
    "    print('Uncompressing... {}'.format(i))\n",
    "    filename = tarfile.open('enron{}.tar.gz'.format(i))\n",
    "    filename.extractall('.'.format(i))\n",
    "    filename.close()"
   ]
  },
  {
   "cell_type": "code",
   "execution_count": 42,
   "metadata": {},
   "outputs": [],
   "source": [
    "emails,labels=[],[]\n",
    "for i in range(1,7):\n",
    "    spam_path='enron{}/spam/'.format(i)\n",
    "    for filename in sorted(glob.glob(os.path.join(spam_path,'*.txt'))):\n",
    "        with open(filename,'r',encoding='ISO-8859-1') as infile:\n",
    "            emails.append(infile.read())\n",
    "            labels.append(1)\n",
    "    ham_path='enron{}/ham/'.format(i)\n",
    "    for filename in sorted(glob.glob(os.path.join(ham_path,'*.txt'))):\n",
    "        with open(filename,'r',encoding='ISO-8859-1') as infile:\n",
    "            emails.append(infile.read())\n",
    "            labels.append(0)\n",
    "print('Nonspam (lable=0) : spam (label=1) = {:.2f}%:{:.2f}%'.format(100*(1-sum(labels)/len(labels)),100*(sum(labels)/len(labels))))"
   ]
  },
  {
   "cell_type": "markdown",
   "metadata": {},
   "source": [
    "# Preprocessing"
   ]
  },
  {
   "cell_type": "code",
   "execution_count": 34,
   "metadata": {},
   "outputs": [],
   "source": [
    "from nltk.corpus import names\n",
    "from nltk.stem import WordNetLemmatizer\n",
    "from sklearn.feature_extraction.text import CountVectorizer\n",
    "all_name=set(names.words())\n",
    "lemmatizer=WordNetLemmatizer()"
   ]
  },
  {
   "cell_type": "code",
   "execution_count": 35,
   "metadata": {},
   "outputs": [],
   "source": [
    "def clean_text(docs):\n",
    "    '''remove words composed of names, non letter characters. Then lemmatize it.\n",
    "    \n",
    "    Parameters\n",
    "    ----------\n",
    "    docs: list\n",
    "        list of original emails\n",
    "        \n",
    "    Returns\n",
    "    -------\n",
    "    docs_cleaned: list\n",
    "        list of cleaned emails\n",
    "    '''\n",
    "    docs_cleaned=[]\n",
    "    for doc in docs:\n",
    "        doc_cleaned= ' '.join(lemmatizer.lemmatize(word) for word in doc.split() if word not in all_name and word.isalpha())\n",
    "        docs_cleaned.append(doc_cleaned)\n",
    "    return docs_cleaned"
   ]
  },
  {
   "cell_type": "code",
   "execution_count": 36,
   "metadata": {},
   "outputs": [],
   "source": [
    "emails_clean=clean_text(emails)"
   ]
  },
  {
   "cell_type": "code",
   "execution_count": 37,
   "metadata": {},
   "outputs": [
    {
     "data": {
      "text/plain": [
       "5172"
      ]
     },
     "execution_count": 37,
     "metadata": {},
     "output_type": "execute_result"
    }
   ],
   "source": [
    "len(emails_clean)"
   ]
  },
  {
   "cell_type": "markdown",
   "metadata": {},
   "source": [
    "# Construct Bayes model from scratch"
   ]
  },
  {
   "cell_type": "code",
   "execution_count": 38,
   "metadata": {},
   "outputs": [],
   "source": [
    "class Bayes:\n",
    "    def __init__(self,X_train,y_train,X_test=None,y_test=None):\n",
    "        '''Detect spam emails using naive Bayes. The texts of emails are treated uisng bag of words (BOW) model.\n",
    "\n",
    "        Parameters\n",
    "        -----------\n",
    "        X_train: list\n",
    "            Text for training data.\n",
    "        y_train: list\n",
    "            Label for training data.\n",
    "        X_test: list, optional\n",
    "            Text for test data.\n",
    "        y_test: list, optional\n",
    "            Label for test data.\n",
    "        '''\n",
    "        self.X_train=X_train\n",
    "        self.y_train=y_train\n",
    "        self.X_test=X_test\n",
    "        self.y_test=y_test\n",
    "        self.label_to_text={0:'NonSpam',1:'Spam'}\n",
    "        \n",
    "    def countvectorizer(self,**kwargs):\n",
    "        '''Vectorize texts by calling `CountVectorizer` from `sklearn`. The converted matrices for training and test data are `self.term_docs_train` and `self.term_docs_test`. The dimension is num_samples by num_features.\n",
    "\n",
    "        Parameters\n",
    "        -----------\n",
    "        **kwargs: dict, optional\n",
    "            Same parameters for CounterVectorizer\n",
    "            Default:\n",
    "            stop_words='english'\n",
    "            max_features=1000\n",
    "            max_df=0.5\n",
    "            min_df=2\n",
    "        '''\n",
    "        kwargs['stop_words']=kwargs.get('stop_words','english')\n",
    "        kwargs['max_features']=kwargs.get('max_features',1000)\n",
    "        kwargs['max_df']=kwargs.get('max_df',.5)\n",
    "        kwargs['min_df']=kwargs.get('min_df',2)\n",
    "        self.cv=CountVectorizer(**kwargs)\n",
    "        self.term_docs_train=self.cv.fit_transform(self.X_train)\n",
    "        if self.X_test is not None:\n",
    "            self.term_docs_test=self.cv.transform(self.X_test)\n",
    "\n",
    "    def add_test(self,X_test,y_test=None):\n",
    "        '''Add test data. \n",
    "\n",
    "        Parameters\n",
    "        -----------\n",
    "        X_test: list\n",
    "            Text for test data\n",
    "        y_test: list, optional\n",
    "            Label for test data\n",
    "        '''\n",
    "        self.X_test=X_test\n",
    "        self.y_test=y_test\n",
    "        self.term_docs_test=self.cv.transform(self.X_test)\n",
    "\n",
    "    def get_label_index(self):\n",
    "        '''A dictionary containing the indices for each label.\n",
    "\n",
    "        Returns\n",
    "        -------\n",
    "        self.label_index: dict\n",
    "            A dictionary with labels as keys, and indices as values.\n",
    "        '''\n",
    "        self.label_index=defaultdict(list)\n",
    "        for index, label in enumerate(self.y_train):\n",
    "            self.label_index[label].append(index)\n",
    "        return self.label_index\n",
    "\n",
    "    def get_prior(self):\n",
    "        '''Calculate the prior probability, P(label).\n",
    "\n",
    "        Returns\n",
    "        -------\n",
    "        self.prior: dict\n",
    "            A dictionary of the prior probability for each label\n",
    "        '''\n",
    "        self.prior={key:len(self.label_index[key])/len(self.y_train) for key in self.label_index.keys()}\n",
    "        return self.prior\n",
    "        \n",
    "    def get_likelihood(self,smoothing=0):\n",
    "        '''Calculate the likelihood from the training data for each label, P(x|label).\n",
    "\n",
    "        Parameters\n",
    "        ----------\n",
    "        smoothing: int\n",
    "            Apply an additional smoothing to the probability to avoid exact zero. P=(occurrence+smoothing)/(Normalization factor)\n",
    "        \n",
    "        Returns\n",
    "        -------\n",
    "        self.likelihood: dict\n",
    "            The likelihood of each feature conditioned on each label. The value of dict is a dense 1d array with length of num_features.        \n",
    "        '''\n",
    "        self.likelihood={}\n",
    "        for label, index in self.label_index.items():\n",
    "            self.likelihood[label]=self.term_docs_train[index].sum(axis=0)+smoothing\n",
    "            self.likelihood[label]=self.likelihood[label]/self.likelihood[label].sum()\n",
    "            self.likelihood[label]=np.asarray(self.likelihood[label]).flatten()\n",
    "        return self.likelihood\n",
    "    \n",
    "    def get_posterior(self):\n",
    "        '''Calculate the posterior probability of each label for self.x_test. In order to avoid the multiplication of many small value conditional probability (likelihood), we calculate the summation of their log, followed by exponantiating them.\n",
    "        \n",
    "        Returns\n",
    "        -------\n",
    "        self.posterior: pandas dataframe\n",
    "            The posterior probability of test data. The rows are for each sample, and the columns are for each label.\n",
    "        '''\n",
    "        assert hasattr(self, 'term_docs_test'), 'Missing test data'\n",
    "        likelihood_mat=[]\n",
    "        prior_mat=[]\n",
    "        for key in self.likelihood.keys():\n",
    "            likelihood_mat.append(self.likelihood[key])\n",
    "            prior_mat.append(self.prior[key])\n",
    "\n",
    "        likelihood_mat=np.array(likelihood_mat).T   # num_features by num_labels\n",
    "        prior_mat=np.array(prior_mat)   # 1 by num_labels\n",
    "        log_posterior=self.term_docs_test@np.log(likelihood_mat)+np.log(prior_mat)\n",
    "        log_posterior=log_posterior-log_posterior.max(axis=1,keepdims=True)\n",
    "        exp_log_posterior=np.exp(log_posterior)\n",
    "        posterior=exp_log_posterior/exp_log_posterior.sum(axis=1,keepdims=True)\n",
    "        self.posterior=pd.DataFrame(posterior,columns=[self.label_to_text[key] for key in self.likelihood.keys()])\n",
    "        return self.posterior\n",
    "\n",
    "    def get_confusion_matrix(self,threshold=0.5):\n",
    "        ''' Calculate the confusion matrix, \n",
    "\n",
    "        Parameters\n",
    "        ----------\n",
    "        threshold: float\n",
    "            Threshold of probability to be considered as spam.\n",
    "        \n",
    "        Returns\n",
    "        -------\n",
    "        confusion_matrix:\n",
    "            Confusion matrix of counts, with row is the actual label and column is the predicted label.\n",
    "        precision:\n",
    "            Precision is defined as TP/(TP+FP)\n",
    "        recall:\n",
    "            Recall is defined as TP/(TP+FN)\n",
    "        f1:\n",
    "            F1 score is defined as the harmonical average between precision and recall\n",
    "        '''\n",
    "        assert hasattr(self,'y_test'),'Missing test label'\n",
    "        TP=((self.posterior.Spam>threshold)*(np.array(self.y_test)==1)).sum()\n",
    "        FN=((self.posterior.Spam<=threshold)*(np.array(self.y_test)==1)).sum()\n",
    "        TN=((self.posterior.Spam<=threshold)*(np.array(self.y_test)==0)).sum()\n",
    "        FP=((self.posterior.Spam>=threshold)*(np.array(self.y_test)==0)).sum()\n",
    "        confusion_matrix=pd.DataFrame([[TN.sum(),FP.sum()],[FN.sum(),TP.sum()]],columns=['Negative','Positive'],index=['Negative','Positive'])\n",
    "        confusion_matrix.rename_axis('Actual',inplace=True)\n",
    "        confusion_matrix.rename_axis('Prediction',axis=1,inplace=True)\n",
    "        self.confusion_matrix=confusion_matrix\n",
    "        precision=TP/(TP+FP)\n",
    "        recall=TP/(TP+FN)\n",
    "        f1=2/(1/precision+1/recall) if precision>0 and recall>0 else 0\n",
    "        return confusion_matrix,precision,recall,f1\n",
    "\n",
    "    def get_AUC(self,plot=True,ax=None):\n",
    "        '''Calculate the Area Under Curve (AOC) of Receiver Operating Characteristic(ROC). \n",
    "        \n",
    "        Parameters\n",
    "        ----------\n",
    "        plot: bool, optional\n",
    "            True to plot the TP rate vs FP rate.\n",
    "        ax: bool, optional\n",
    "            Provide the axis where the figure should be plotted onto.\n",
    "        \n",
    "        Returns\n",
    "        -------\n",
    "        AUC: float\n",
    "            Area under curver\n",
    "        '''\n",
    "        threshold_list=np.linspace(0,1)[::-1]\n",
    "        num_actual_P=sum(self.y_test)\n",
    "        num_actual_N=len(self.y_test)-sum(self.y_test)\n",
    "        TP_list=[]\n",
    "        FP_list=[]\n",
    "        for threshold in threshold_list:\n",
    "            self.get_confusion_matrix(threshold)\n",
    "            TP_list.append(self.confusion_matrix.iloc[1,1]/num_actual_P)\n",
    "            FP_list.append(self.confusion_matrix.iloc[0,1]/num_actual_N)\n",
    "        TP_list=np.array(TP_list)\n",
    "        FP_list=np.array(FP_list)\n",
    "        TP_list_mean=(TP_list[1:]+TP_list[:-1])/2\n",
    "        AUC=np.diff(FP_list)@TP_list_mean\n",
    "        if plot:\n",
    "            if not ax:\n",
    "                fig,ax=plt.subplots()\n",
    "            ax.plot(FP_list,TP_list)\n",
    "            ax.set_xlim([0,1])\n",
    "            ax.set_ylim([0,1.02])\n",
    "            ax.set_title('Receiver Operating Characteristic, AUC={:.2f}'.format(AUC))\n",
    "        return AUC"
   ]
  },
  {
   "cell_type": "markdown",
   "metadata": {},
   "source": [
    "##  Split train and test data"
   ]
  },
  {
   "cell_type": "code",
   "execution_count": 39,
   "metadata": {},
   "outputs": [],
   "source": [
    "from sklearn.model_selection import train_test_split"
   ]
  },
  {
   "cell_type": "code",
   "execution_count": 40,
   "metadata": {},
   "outputs": [],
   "source": [
    "X_train,X_test,y_train,y_test=train_test_split(emails_clean,labels,test_size=0.33,random_state=42)"
   ]
  },
  {
   "cell_type": "code",
   "execution_count": 26,
   "metadata": {},
   "outputs": [
    {
     "data": {
      "text/plain": [
       "(22589, 11127)"
      ]
     },
     "execution_count": 26,
     "metadata": {},
     "output_type": "execute_result"
    }
   ],
   "source": [
    "len(y_train),len(y_test)"
   ]
  },
  {
   "cell_type": "code",
   "execution_count": 27,
   "metadata": {},
   "outputs": [],
   "source": [
    "bayes=Bayes(X_train,y_train,X_test,y_test)\n",
    "bayes.countvectorizer()"
   ]
  },
  {
   "cell_type": "code",
   "execution_count": 28,
   "metadata": {},
   "outputs": [],
   "source": [
    "label_index=bayes.get_label_index()"
   ]
  },
  {
   "cell_type": "code",
   "execution_count": 29,
   "metadata": {},
   "outputs": [
    {
     "data": {
      "text/plain": [
       "{0: 0.48789233697817525, 1: 0.5121076630218248}"
      ]
     },
     "execution_count": 29,
     "metadata": {},
     "output_type": "execute_result"
    }
   ],
   "source": [
    "bayes.get_prior()"
   ]
  },
  {
   "cell_type": "code",
   "execution_count": 30,
   "metadata": {},
   "outputs": [],
   "source": [
    "likelihood=bayes.get_likelihood(smoothing=1)\n",
    "prob_pred=bayes.get_posterior()"
   ]
  },
  {
   "cell_type": "code",
   "execution_count": 31,
   "metadata": {},
   "outputs": [
    {
     "data": {
      "text/plain": [
       "(Prediction  Negative  Positive\n",
       " Actual                        \n",
       " Negative        5283       241\n",
       " Positive         164      5439,\n",
       " 0.9575704225352113,\n",
       " 0.9707299660895948,\n",
       " 0.9641052911459718)"
      ]
     },
     "execution_count": 31,
     "metadata": {},
     "output_type": "execute_result"
    }
   ],
   "source": [
    "bayes.get_confusion_matrix(0.5)"
   ]
  },
  {
   "cell_type": "code",
   "execution_count": 32,
   "metadata": {},
   "outputs": [
    {
     "data": {
      "text/plain": [
       "0.9776816056051487"
      ]
     },
     "execution_count": 32,
     "metadata": {},
     "output_type": "execute_result"
    },
    {
     "data": {
      "image/png": "[encoded data removed]",
      "text/plain": [
       "<Figure size 432x288 with 1 Axes>"
      ]
     },
     "metadata": {
      "needs_background": "light"
     },
     "output_type": "display_data"
    }
   ],
   "source": [
    "bayes.get_AUC(plot=True)"
   ]
  },
  {
   "cell_type": "markdown",
   "metadata": {},
   "source": [
    "## Manual test "
   ]
  },
  {
   "cell_type": "code",
   "execution_count": 963,
   "metadata": {},
   "outputs": [],
   "source": [
    "emails_test=['''ISGD-7 WASHINGTON D.C.7th INTERNATIONAL SYMPOSIUM ONGRAPHENE DEVICES, ISGD-7 25-28 JULY 2022  https://www.isgd7.comISGD-7 FLYER  VENUE:Holiday Inn Washington Capitol – National Mall550 C Street SW | Washington, DC 20024  After having been postponed for 2 years, ISGD-7 is finally happening! The Symposium on Graphene Devices (ISGD-7) is the main meeting addressing advanced graphene applications, offering a unique forum to review the current status, the latest developments, future prospects and related fundamental studies, covering both state-of-the-art experimental and theoretical discoveries. Opening Plenary Lecture by:‘Electronic and Optoelectronic Devices in Van Der Waals Heterostructures’Prof. Philip KimHarvard University, USA Topics:·       Graphene Electronics, Spintronics, Sensors, Terahertz Devices, Photonics and Energy Applications·       Graphene Nanochemistry and Functionalization, Bioapplications·       Graphene Growth: Epitaxial, CVD, Mechanical and Chemical Exfoliation,  and Substrate Transfer·       Electronic, Structural, Optical, Mechanical and Transport Properties of Graphene·       2D Materials·       Theoretical Investigation and Modelling of Graphene and 2D Material  Devices  Looking forward to welcoming you in Washington DC, Prof. Joshua Caldwell (chair)Vanderbilt University, USA Prof. Tony Low (co-chair)University of Minnesota, USA   IMPORTANT DATE:Abstract submission is OPEN!until 10 April, 2022 ……………. For any assistance, please contactyour ISGD7 Team:contact@isgd7.com''',\n",
    "'''Dear all,    It's a beautiful spring day. I'll see you in front of Atlantic, 5pm!''',\n",
    "'''Sounds good. Talk to you then. I will send a meeting invite shortly.''',\n",
    "'''Want a chance to earn $500? Here’s a special opportunity from IMLeagues for our community!\n",
    "We are sharing a survey on behalf of an electronics partner who is hoping to get students' perspectives on its product categories.\n",
    "As a thank you for your survey input, one student will be randomly selected from a pool of respondents from just 20 campuses to receive a $500 Visa Gift Card on Monday, 2/28. If you are selected as a winner, we will contact you at the email address you provide at the end of the survey.\n",
    "Our short survey takes about 7-10 minutes. Click below to share your thoughts!\n",
    "''']"
   ]
  },
  {
   "cell_type": "code",
   "execution_count": 962,
   "metadata": {},
   "outputs": [],
   "source": [
    "emails_test_clean=clean_text(emails_test)"
   ]
  },
  {
   "cell_type": "code",
   "execution_count": 964,
   "metadata": {},
   "outputs": [],
   "source": [
    "bayes.add_test(emails_test_clean,[1,0,0,1])"
   ]
  },
  {
   "cell_type": "code",
   "execution_count": 965,
   "metadata": {},
   "outputs": [
    {
     "data": {
      "text/html": [
       "<div>\n",
       "<style scoped>\n",
       "    .dataframe tbody tr th:only-of-type {\n",
       "        vertical-align: middle;\n",
       "    }\n",
       "\n",
       "    .dataframe tbody tr th {\n",
       "        vertical-align: top;\n",
       "    }\n",
       "\n",
       "    .dataframe thead th {\n",
       "        text-align: right;\n",
       "    }\n",
       "</style>\n",
       "<table border=\"1\" class=\"dataframe\">\n",
       "  <thead>\n",
       "    <tr style=\"text-align: right;\">\n",
       "      <th></th>\n",
       "      <th>NonSpam</th>\n",
       "      <th>Spam</th>\n",
       "    </tr>\n",
       "  </thead>\n",
       "  <tbody>\n",
       "    <tr>\n",
       "      <th>0</th>\n",
       "      <td>2.770241e-01</td>\n",
       "      <td>0.722976</td>\n",
       "    </tr>\n",
       "    <tr>\n",
       "      <th>1</th>\n",
       "      <td>3.324002e-01</td>\n",
       "      <td>0.667600</td>\n",
       "    </tr>\n",
       "    <tr>\n",
       "      <th>2</th>\n",
       "      <td>9.556877e-01</td>\n",
       "      <td>0.044312</td>\n",
       "    </tr>\n",
       "    <tr>\n",
       "      <th>3</th>\n",
       "      <td>5.391195e-07</td>\n",
       "      <td>0.999999</td>\n",
       "    </tr>\n",
       "  </tbody>\n",
       "</table>\n",
       "</div>"
      ],
      "text/plain": [
       "        NonSpam      Spam\n",
       "0  2.770241e-01  0.722976\n",
       "1  3.324002e-01  0.667600\n",
       "2  9.556877e-01  0.044312\n",
       "3  5.391195e-07  0.999999"
      ]
     },
     "execution_count": 965,
     "metadata": {},
     "output_type": "execute_result"
    }
   ],
   "source": [
    "bayes.get_posterior()"
   ]
  },
  {
   "cell_type": "code",
   "execution_count": 966,
   "metadata": {},
   "outputs": [
    {
     "data": {
      "text/plain": [
       "(Prediction  Negative  Positive\n",
       " Actual                        \n",
       " Negative           1         1\n",
       " Positive           0         2,\n",
       " 0.6666666666666666,\n",
       " 1.0,\n",
       " 0.8)"
      ]
     },
     "execution_count": 966,
     "metadata": {},
     "output_type": "execute_result"
    }
   ],
   "source": [
    "bayes.get_confusion_matrix()"
   ]
  },
  {
   "cell_type": "markdown",
   "metadata": {},
   "source": [
    "# Cross validation to fine-tune parameters"
   ]
  },
  {
   "cell_type": "code",
   "execution_count": 967,
   "metadata": {},
   "outputs": [],
   "source": [
    "from sklearn.model_selection import StratifiedKFold\n",
    "k = 5\n",
    "k_fold = StratifiedKFold(n_splits=k)"
   ]
  },
  {
   "cell_type": "code",
   "execution_count": 968,
   "metadata": {},
   "outputs": [],
   "source": [
    "max_features_option=[500,1000,2000,4000,None]\n",
    "smoothing_factor_option=[.5,1,2,4]"
   ]
  },
  {
   "cell_type": "code",
   "execution_count": 969,
   "metadata": {},
   "outputs": [],
   "source": [
    "from itertools import product"
   ]
  },
  {
   "cell_type": "code",
   "execution_count": 971,
   "metadata": {},
   "outputs": [
    {
     "name": "stdout",
     "output_type": "stream",
     "text": [
      "0\n",
      "1\n",
      "2\n",
      "3\n",
      "4\n"
     ]
    }
   ],
   "source": [
    "i=0\n",
    "for train_index,test_index in k_fold.split(emails_clean,labels):\n",
    "    print(i)\n",
    "    i+=1\n",
    "    auc_dict=defaultdict(list)\n",
    "    # bayes=Bayes(np.array(emails_clean)[train_index],np.array(labels)[train_index],np.array(emails_clean)[test_index],np.array(labels)[test_index])\n",
    "    bayes=Bayes([emails_clean[i] for i in train_index],[labels[i] for i in train_index],[emails_clean[i] for i in test_index],[labels[i] for i in test_index])\n",
    "    for max_features,smoothing in product(max_features_option,smoothing_factor_option):\n",
    "        bayes.countvectorizer(max_features=max_features)\n",
    "        bayes.get_label_index()\n",
    "        bayes.get_prior()\n",
    "        bayes.get_likelihood(smoothing=smoothing)\n",
    "        bayes.get_posterior()\n",
    "        auc_dict[(max_features,smoothing)].append(bayes.get_AUC(plot=False))"
   ]
  },
  {
   "cell_type": "code",
   "execution_count": 972,
   "metadata": {},
   "outputs": [],
   "source": [
    "auc_mean_dict={}\n",
    "for max_features,smoothing in product(max_features_option,smoothing_factor_option):\n",
    "    auc_mean_dict[(max_features,smoothing)]=np.mean(auc_dict[(max_features,smoothing)])"
   ]
  },
  {
   "cell_type": "code",
   "execution_count": 973,
   "metadata": {},
   "outputs": [
    {
     "data": {
      "text/plain": [
       "[((None, 4), 0.9807359889100743),\n",
       " ((None, 2), 0.9795370649538956),\n",
       " ((None, 1), 0.9791384063477011),\n",
       " ((None, 0.5), 0.9786374869687918),\n",
       " ((2000, 0.5), 0.9770761180965838),\n",
       " ((2000, 1), 0.9770226115993286),\n",
       " ((2000, 2), 0.9768096856616492),\n",
       " ((2000, 4), 0.976422643597622),\n",
       " ((1000, 0.5), 0.9692615293740989),\n",
       " ((1000, 1), 0.9691421078004554),\n",
       " ((1000, 2), 0.9678014972314787),\n",
       " ((1000, 4), 0.9676777634565761),\n",
       " ((4000, 0.5), 0.9633103396201707),\n",
       " ((4000, 1), 0.9631399196663307),\n",
       " ((4000, 4), 0.9627630420766998),\n",
       " ((4000, 2), 0.9626922427723548),\n",
       " ((500, 0.5), 0.961807713489604),\n",
       " ((500, 1), 0.9612363028207253),\n",
       " ((500, 2), 0.9606137177634354),\n",
       " ((500, 4), 0.9598105922799629)]"
      ]
     },
     "execution_count": 973,
     "metadata": {},
     "output_type": "execute_result"
    }
   ],
   "source": [
    "keys=sorted(auc_mean_dict,key=lambda x:auc_mean_dict[x],reverse=True)\n",
    "[(key,auc_mean_dict[key]) for key in keys]"
   ]
  },
  {
   "cell_type": "code",
   "execution_count": 979,
   "metadata": {},
   "outputs": [],
   "source": [
    "max_features_option=[None,]\n",
    "smoothing_factor_option=np.arange(4,20)"
   ]
  },
  {
   "cell_type": "code",
   "execution_count": 980,
   "metadata": {},
   "outputs": [
    {
     "name": "stdout",
     "output_type": "stream",
     "text": [
      "0\n",
      "1\n",
      "2\n"
     ]
    },
    {
     "name": "stderr",
     "output_type": "stream",
     "text": [
      "/tmp/ipykernel_20472/323215144.py:154: RuntimeWarning: invalid value encountered in long_scalars\n",
      "  precision=TP/(TP+FP)\n"
     ]
    },
    {
     "name": "stdout",
     "output_type": "stream",
     "text": [
      "3\n",
      "4\n"
     ]
    }
   ],
   "source": [
    "i=0\n",
    "for train_index,test_index in k_fold.split(emails_clean,labels):\n",
    "    print(i)\n",
    "    i+=1\n",
    "    auc_dict=defaultdict(list)\n",
    "    bayes=Bayes([emails_clean[i] for i in train_index],[labels[i] for i in train_index],[emails_clean[i] for i in test_index],[labels[i] for i in test_index])\n",
    "    for max_features,smoothing in product(max_features_option,smoothing_factor_option):\n",
    "        bayes.countvectorizer(max_features=max_features)\n",
    "        bayes.get_label_index()\n",
    "        bayes.get_prior()\n",
    "        bayes.get_likelihood(smoothing=smoothing)\n",
    "        bayes.get_posterior()\n",
    "        auc_dict[(max_features,smoothing)].append(bayes.get_AUC(plot=False))\n",
    "    "
   ]
  },
  {
   "cell_type": "code",
   "execution_count": 981,
   "metadata": {},
   "outputs": [],
   "source": [
    "auc_mean_dict={}\n",
    "for max_features,smoothing in product(max_features_option,smoothing_factor_option):\n",
    "    auc_mean_dict[(max_features,smoothing)]=np.mean(auc_dict[(max_features,smoothing)])"
   ]
  },
  {
   "cell_type": "code",
   "execution_count": 982,
   "metadata": {},
   "outputs": [
    {
     "data": {
      "text/plain": [
       "[((None, 13), 0.9879357369367143),\n",
       " ((None, 12), 0.9878041267942059),\n",
       " ((None, 14), 0.9877251871099326),\n",
       " ((None, 7), 0.9877166067094684),\n",
       " ((None, 15), 0.9877100504034725),\n",
       " ((None, 11), 0.9876534197604072),\n",
       " ((None, 10), 0.9876392510991274),\n",
       " ((None, 8), 0.9876203742181056),\n",
       " ((None, 9), 0.9875746120822951),\n",
       " ((None, 16), 0.9875494429075993),\n",
       " ((None, 17), 0.9875305660265775),\n",
       " ((None, 18), 0.9870807330319721),\n",
       " ((None, 19), 0.9869213135915479),\n",
       " ((None, 6), 0.9812136752046491),\n",
       " ((None, 5), 0.9808823397405604),\n",
       " ((None, 4), 0.9807359889100743)]"
      ]
     },
     "execution_count": 982,
     "metadata": {},
     "output_type": "execute_result"
    }
   ],
   "source": [
    "keys=sorted(auc_mean_dict,key=lambda x:auc_mean_dict[x],reverse=True)\n",
    "[(key,auc_mean_dict[key]) for key in keys]"
   ]
  },
  {
   "cell_type": "code",
   "execution_count": 986,
   "metadata": {},
   "outputs": [
    {
     "data": {
      "text/plain": [
       "Text(0, 0.5, 'AUC')"
      ]
     },
     "execution_count": 986,
     "metadata": {},
     "output_type": "execute_result"
    },
    {
     "data": {
      "image/png": "[encoded data removed]",
      "text/plain": [
       "<Figure size 432x288 with 1 Axes>"
      ]
     },
     "metadata": {
      "needs_background": "light"
     },
     "output_type": "display_data"
    }
   ],
   "source": [
    "fig,ax=plt.subplots()\n",
    "ax.plot(smoothing_factor_option,[auc_mean_dict[(None,i)] for i in smoothing_factor_option])\n",
    "ax.set_xlabel('smoothing')\n",
    "ax.set_ylabel('AUC')"
   ]
  }
 ],
 "metadata": {
  "interpreter": {
   "hash": "8763e5ea16b716ad1eeffeab5f34109bd722594d0305e114e3d37565ed57b2a4"
  },
  "kernelspec": {
   "display_name": "Python 3.8.11 ('base')",
   "language": "python",
   "name": "python3"
  },
  "language_info": {
   "codemirror_mode": {
    "name": "ipython",
    "version": 3
   },
   "file_extension": ".py",
   "mimetype": "text/x-python",
   "name": "python",
   "nbconvert_exporter": "python",
   "pygments_lexer": "ipython3",
   "version": "3.8.11"
  },
  "orig_nbformat": 4
 },
 "nbformat": 4,
 "nbformat_minor": 2
}
