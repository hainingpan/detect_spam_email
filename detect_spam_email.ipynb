{
 "cells": [
  {
   "cell_type": "code",
   "execution_count": 1,
   "metadata": {},
   "outputs": [],
   "source": [
    "import glob\n",
    "import os\n",
    "import numpy as np\n",
    "import matplotlib.pyplot as plt\n",
    "from collections import defaultdict\n",
    "import pandas as pd"
   ]
  },
  {
   "cell_type": "markdown",
   "metadata": {},
   "source": [
    "# Fetch data"
   ]
  },
  {
   "cell_type": "code",
   "execution_count": 2,
   "metadata": {},
   "outputs": [
    {
     "name": "stdout",
     "output_type": "stream",
     "text": [
      "downloading.. 1\n",
      "downloading.. 2\n",
      "downloading.. 3\n",
      "downloading.. 4\n",
      "downloading.. 5\n",
      "downloading.. 6\n"
     ]
    }
   ],
   "source": [
    "from urllib.request import urlretrieve\n",
    "for i in range(1,7):\n",
    "    print('downloading.. {}'.format(i))\n",
    "    if not os.path.exists('./enron{}.tar.gz'.format(i)):\n",
    "        filename, headers = urlretrieve('http://www.aueb.gr/users/ion/data/enron-spam/preprocessed/enron{}.tar.gz'.format(i), './enron{}.tar.gz'.format(i))"
   ]
  },
  {
   "cell_type": "code",
   "execution_count": 3,
   "metadata": {},
   "outputs": [
    {
     "name": "stdout",
     "output_type": "stream",
     "text": [
      "Uncompressing... 1\n",
      "Uncompressing... 2\n",
      "Uncompressing... 3\n",
      "Uncompressing... 4\n",
      "Uncompressing... 5\n",
      "Uncompressing... 6\n"
     ]
    }
   ],
   "source": [
    "import tarfile\n",
    "for i in range(1,7):\n",
    "    print('Uncompressing... {}'.format(i))\n",
    "    if not os.path.exists('./enron{}'.format(i)):\n",
    "        filename = tarfile.open('enron{}.tar.gz'.format(i))\n",
    "        filename.extractall('.'.format(i))\n",
    "        filename.close()"
   ]
  },
  {
   "cell_type": "code",
   "execution_count": 4,
   "metadata": {},
   "outputs": [
    {
     "name": "stdout",
     "output_type": "stream",
     "text": [
      "Nonspam (lable=0) : spam (label=1) = 49.07%:50.93%\n"
     ]
    }
   ],
   "source": [
    "emails,labels=[],[]\n",
    "for i in range(1,7):\n",
    "    spam_path='enron{}/spam/'.format(i)\n",
    "    for filename in sorted(glob.glob(os.path.join(spam_path,'*.txt'))):\n",
    "        with open(filename,'r',encoding='ISO-8859-1') as infile:\n",
    "            emails.append(infile.read())\n",
    "            labels.append(1)\n",
    "    ham_path='enron{}/ham/'.format(i)\n",
    "    for filename in sorted(glob.glob(os.path.join(ham_path,'*.txt'))):\n",
    "        with open(filename,'r',encoding='ISO-8859-1') as infile:\n",
    "            emails.append(infile.read())\n",
    "            labels.append(0)\n",
    "print('Nonspam (lable=0) : spam (label=1) = {:.2f}%:{:.2f}%'.format(100*(1-sum(labels)/len(labels)),100*(sum(labels)/len(labels))))"
   ]
  },
  {
   "cell_type": "markdown",
   "metadata": {},
   "source": [
    "# Preprocessing: clean stop words, lemmatization, and vectorization"
   ]
  },
  {
   "cell_type": "code",
   "execution_count": 5,
   "metadata": {},
   "outputs": [],
   "source": [
    "from nltk.corpus import names\n",
    "from nltk.stem import WordNetLemmatizer\n",
    "from sklearn.feature_extraction.text import CountVectorizer\n",
    "all_name=set(names.words())\n",
    "lemmatizer=WordNetLemmatizer()"
   ]
  },
  {
   "cell_type": "code",
   "execution_count": 6,
   "metadata": {},
   "outputs": [],
   "source": [
    "def clean_text(docs):\n",
    "    '''remove words composed of names, non letter characters. Then lemmatize it.\n",
    "    \n",
    "    Parameters\n",
    "    ----------\n",
    "    docs: list\n",
    "        list of original emails\n",
    "        \n",
    "    Returns\n",
    "    -------\n",
    "    docs_cleaned: list\n",
    "        list of cleaned emails\n",
    "    '''\n",
    "    docs_cleaned=[]\n",
    "    for doc in docs:\n",
    "        doc_cleaned= ' '.join(lemmatizer.lemmatize(word) for word in doc.split() if word not in all_name and word.isalpha())\n",
    "        docs_cleaned.append(doc_cleaned)\n",
    "    return docs_cleaned"
   ]
  },
  {
   "cell_type": "code",
   "execution_count": 7,
   "metadata": {},
   "outputs": [],
   "source": [
    "def countvectorizer(X_train,X_test,cv=None,**kwargs):\n",
    "        '''Vectorize texts by calling `CountVectorizer` from `sklearn`. The dimension is num_samples by num_features.\n",
    "\n",
    "        Parameters\n",
    "        -----------\n",
    "        X_train: list\n",
    "            Raw texts of training data\n",
    "\n",
    "        X_test: list\n",
    "            Raw texts of test data\n",
    "            \n",
    "        **kwargs: dict, optional\n",
    "            Same parameters for CounterVectorizer\n",
    "            Default:\n",
    "            stop_words='english'\n",
    "            max_features=1000\n",
    "            max_df=0.5\n",
    "            min_df=2\n",
    "        '''\n",
    "        if cv is None:\n",
    "            kwargs['stop_words']=kwargs.get('stop_words','english')\n",
    "            kwargs['max_features']=kwargs.get('max_features',1000)\n",
    "            kwargs['max_df']=kwargs.get('max_df',.5)\n",
    "            kwargs['min_df']=kwargs.get('min_df',2)\n",
    "            cv=CountVectorizer(**kwargs)\n",
    "        \n",
    "        term_docs_train=cv.fit_transform(X_train)\n",
    "        term_docs_test=cv.transform(X_test)\n",
    "        return cv,term_docs_train,term_docs_test"
   ]
  },
  {
   "cell_type": "markdown",
   "metadata": {},
   "source": [
    "# Naive Bayes"
   ]
  },
  {
   "cell_type": "markdown",
   "metadata": {},
   "source": [
    "## Construct Bayes model from scratch"
   ]
  },
  {
   "cell_type": "code",
   "execution_count": 8,
   "metadata": {},
   "outputs": [],
   "source": [
    "class Bayes:\n",
    "    def __init__(self,X_train_term,y_train,X_test_term,y_test,smoothing=1,threshold=0.5):\n",
    "        '''Detect spam emails using naive Bayes. The texts of emails are treated uisng bag of words (BOW) model.\n",
    "\n",
    "        Parameters\n",
    "        -----------\n",
    "        X_test_term: list\n",
    "            Text for training data.\n",
    "        y_train: list\n",
    "            Label for training data.\n",
    "        X_test_term: list, optional\n",
    "            Text for test data.\n",
    "        y_test: list, optional\n",
    "            Label for test data.\n",
    "        '''\n",
    "        assert X_train_term.shape[0]==len(y_train), 'Number of samples in training data ({}) does not equal to the number of labesl ({})'.format(X_train_term.shape[0],len(y_train))\n",
    "        assert X_test_term.shape[0]==len(y_test), 'Number of samples in test data ({}) does not equal to the number of labesl ({})'.format(X_test_term.shape[0],len(y_test))\n",
    "        self.X_train_term=X_train_term\n",
    "        self.y_train=y_train\n",
    "        self.X_test_term=X_test_term\n",
    "        self.y_test=y_test\n",
    "        self.label_to_text={0:'NonSpam',1:'Spam'}\n",
    "        self.smoothing=smoothing\n",
    "        self.threshold=threshold\n",
    "        \n",
    "    def get_label_index(self):\n",
    "        '''A dictionary containing the indices for each label.\n",
    "\n",
    "        Returns\n",
    "        -------\n",
    "        self.label_index: dict\n",
    "            A dictionary with labels as keys, and indices as values.\n",
    "        '''\n",
    "        self.label_index=defaultdict(list)\n",
    "        for index, label in enumerate(self.y_train):\n",
    "            self.label_index[label].append(index)\n",
    "        return self.label_index\n",
    "\n",
    "    def get_prior(self):\n",
    "        '''Calculate the prior probability, P(label).\n",
    "\n",
    "        Returns\n",
    "        -------\n",
    "        self.prior: dict\n",
    "            A dictionary of the prior probability for each label\n",
    "        '''\n",
    "        self.prior={key:len(self.label_index[key])/len(self.y_train) for key in self.label_index.keys()}\n",
    "        return self.prior\n",
    "        \n",
    "    def get_likelihood(self,smoothing=0):\n",
    "        '''Calculate the likelihood from the training data for each label, P(x|label).\n",
    "\n",
    "        Parameters\n",
    "        ----------\n",
    "        smoothing: int\n",
    "            Apply an additional smoothing to the probability to avoid exact zero. P=(occurrence+smoothing)/(Normalization factor)\n",
    "        \n",
    "        Returns\n",
    "        -------\n",
    "        self.likelihood: dict\n",
    "            The likelihood of each feature conditioned on each label. The value of dict is a dense 1d array with length of num_features.        \n",
    "        '''\n",
    "        self.likelihood={}\n",
    "        for label, index in self.label_index.items():\n",
    "            self.likelihood[label]=self.X_train_term[index].sum(axis=0)+smoothing\n",
    "            self.likelihood[label]=self.likelihood[label]/self.likelihood[label].sum()\n",
    "            self.likelihood[label]=np.asarray(self.likelihood[label]).flatten()\n",
    "        return self.likelihood\n",
    "    \n",
    "    def get_posterior(self):\n",
    "        '''Calculate the posterior probability of each label for test data. In order to avoid the multiplication of many small value conditional probability (likelihood), we calculate the summation of their log, followed by exponantiating them.\n",
    "        \n",
    "        Returns\n",
    "        -------\n",
    "        self.posterior: pandas dataframe\n",
    "            The posterior probability of test data. The rows are for each sample, and the columns are for each label.\n",
    "        '''\n",
    "        assert hasattr(self, 'X_test_term'), 'Missing test data'\n",
    "        likelihood_mat=[]\n",
    "        prior_mat=[]\n",
    "        for key in self.likelihood.keys():\n",
    "            likelihood_mat.append(self.likelihood[key])\n",
    "            prior_mat.append(self.prior[key])\n",
    "\n",
    "        likelihood_mat=np.array(likelihood_mat).T   # num_features by num_labels\n",
    "        prior_mat=np.array(prior_mat)   # 1 by num_labels\n",
    "        log_posterior=self.X_test_term@np.log(likelihood_mat)+np.log(prior_mat)\n",
    "        log_posterior=log_posterior-log_posterior.max(axis=1,keepdims=True)\n",
    "        exp_log_posterior=np.exp(log_posterior)\n",
    "        posterior=exp_log_posterior/exp_log_posterior.sum(axis=1,keepdims=True)\n",
    "        self.posterior=pd.DataFrame(posterior,columns=[self.label_to_text[key] for key in self.likelihood.keys()])\n",
    "        return self.posterior\n",
    "    \n",
    "    def predict(self):\n",
    "        '''Predict the outcome of whether it is Spam based on whether the probability is larger than the `self.threshold`\n",
    "\n",
    "        Returns\n",
    "        -------\n",
    "        self.prediction:\n",
    "            The prediction of whether it is Spam (1) or NonSpam (0).\n",
    "        '''\n",
    "        self.prediction=(self.posterior['Spam']>self.threshold)*1\n",
    "        return self.prediction\n",
    "\n",
    "    def fit(self):\n",
    "        '''Fit Naive Bayes model\n",
    "        '''\n",
    "        self.get_label_index()\n",
    "        self.get_prior()\n",
    "        self.get_likelihood(smoothing=self.smoothing)\n",
    "        self.get_posterior()\n",
    "        self.predict()"
   ]
  },
  {
   "cell_type": "markdown",
   "metadata": {},
   "source": [
    "###  Split training and test data"
   ]
  },
  {
   "cell_type": "code",
   "execution_count": 9,
   "metadata": {},
   "outputs": [],
   "source": [
    "from sklearn.model_selection import train_test_split"
   ]
  },
  {
   "cell_type": "code",
   "execution_count": 10,
   "metadata": {},
   "outputs": [],
   "source": [
    "emails_clean=clean_text(emails)"
   ]
  },
  {
   "cell_type": "code",
   "execution_count": 11,
   "metadata": {},
   "outputs": [],
   "source": [
    "X_train,X_test,y_train,y_test=train_test_split(emails_clean,labels,test_size=0.33,random_state=42)"
   ]
  },
  {
   "cell_type": "code",
   "execution_count": 12,
   "metadata": {},
   "outputs": [
    {
     "data": {
      "text/plain": [
       "(22589, 11127)"
      ]
     },
     "execution_count": 12,
     "metadata": {},
     "output_type": "execute_result"
    }
   ],
   "source": [
    "len(y_train),len(y_test)"
   ]
  },
  {
   "cell_type": "code",
   "execution_count": 13,
   "metadata": {},
   "outputs": [],
   "source": [
    "cv,X_train_term,X_test_term=countvectorizer(X_train,X_test)"
   ]
  },
  {
   "cell_type": "code",
   "execution_count": 14,
   "metadata": {},
   "outputs": [],
   "source": [
    "bayes=Bayes(X_train_term,y_train,X_test_term,y_test)\n",
    "bayes.fit()"
   ]
  },
  {
   "cell_type": "markdown",
   "metadata": {},
   "source": [
    "### Metrics: confusion matrix, accuracy, precision, recall, F1 score, AUC of ROC"
   ]
  },
  {
   "cell_type": "code",
   "execution_count": 15,
   "metadata": {},
   "outputs": [],
   "source": [
    "import sklearn.metrics"
   ]
  },
  {
   "cell_type": "code",
   "execution_count": 16,
   "metadata": {},
   "outputs": [
    {
     "data": {
      "text/plain": [
       "array([[5283,  241],\n",
       "       [ 164, 5439]])"
      ]
     },
     "execution_count": 16,
     "metadata": {},
     "output_type": "execute_result"
    }
   ],
   "source": [
    "sklearn.metrics.confusion_matrix(y_test,bayes.prediction,labels=[0,1])"
   ]
  },
  {
   "cell_type": "code",
   "execution_count": 17,
   "metadata": {},
   "outputs": [
    {
     "name": "stdout",
     "output_type": "stream",
     "text": [
      "              precision    recall  f1-score   support\n",
      "\n",
      "           0       0.97      0.96      0.96      5524\n",
      "           1       0.96      0.97      0.96      5603\n",
      "\n",
      "    accuracy                           0.96     11127\n",
      "   macro avg       0.96      0.96      0.96     11127\n",
      "weighted avg       0.96      0.96      0.96     11127\n",
      "\n"
     ]
    }
   ],
   "source": [
    "print(sklearn.metrics.classification_report(y_test,bayes.prediction))"
   ]
  },
  {
   "cell_type": "code",
   "execution_count": 18,
   "metadata": {},
   "outputs": [],
   "source": [
    "FP_list,TP_list,threshold_list=sklearn.metrics.roc_curve(y_test,bayes.posterior.Spam,pos_label=1)"
   ]
  },
  {
   "cell_type": "code",
   "execution_count": 19,
   "metadata": {},
   "outputs": [
    {
     "data": {
      "text/plain": [
       "Text(0.5, 1.0, 'AUC of ROC=0.98677')"
      ]
     },
     "execution_count": 19,
     "metadata": {},
     "output_type": "execute_result"
    },
    {
     "data": {
      "image/png": "[encoded data removed]",
      "text/plain": [
       "<Figure size 432x288 with 1 Axes>"
      ]
     },
     "metadata": {
      "needs_background": "light"
     },
     "output_type": "display_data"
    }
   ],
   "source": [
    "fig,ax=plt.subplots()\n",
    "ax.plot(FP_list,TP_list)\n",
    "ax.set_xlim([0,1])\n",
    "ax.set_ylim([0,1.03])\n",
    "ax.set_xlabel('False positive rate')\n",
    "ax.set_ylabel('True positive rate')\n",
    "ax.set_title('AUC of ROC={:.5f}'.format(np.diff(FP_list)@(TP_list[1:]+TP_list[:-1])/2))"
   ]
  },
  {
   "cell_type": "code",
   "execution_count": 20,
   "metadata": {},
   "outputs": [
    {
     "name": "stdout",
     "output_type": "stream",
     "text": [
      "AUC of ROC is 0.986771\n"
     ]
    }
   ],
   "source": [
    "print('AUC of ROC is {:f}'.format(sklearn.metrics.roc_auc_score(y_test,bayes.posterior.Spam)))"
   ]
  },
  {
   "cell_type": "markdown",
   "metadata": {},
   "source": [
    "### Cross validation to fine-tune parameters"
   ]
  },
  {
   "cell_type": "markdown",
   "metadata": {},
   "source": [
    "#### Coarse search"
   ]
  },
  {
   "cell_type": "code",
   "execution_count": 21,
   "metadata": {},
   "outputs": [],
   "source": [
    "from sklearn.model_selection import StratifiedKFold\n",
    "k = 5\n",
    "# k_fold = StratifiedKFold(n_splits=k)\n",
    "k_fold = StratifiedKFold(n_splits=k,shuffle=True,random_state=42)"
   ]
  },
  {
   "cell_type": "code",
   "execution_count": 22,
   "metadata": {},
   "outputs": [],
   "source": [
    "max_features_option_bayes=[500,2000,None]\n",
    "smoothing_factor_option_bayes=[.5,1,2]"
   ]
  },
  {
   "cell_type": "code",
   "execution_count": 23,
   "metadata": {},
   "outputs": [],
   "source": [
    "from itertools import product\n",
    "def cross_validation(*args):\n",
    "    '''Calculate the AUC of ROC using cross validation. The parameter to be tuned are the cartesian product of them.\n",
    "\n",
    "    Parameters\n",
    "    ----------\n",
    "    args: variable number of lists\n",
    "        The list to be tuned.\n",
    "\n",
    "    Returns\n",
    "    -------\n",
    "    bayes_dict: dict\n",
    "        The dictionary for the Bayes models.\n",
    "    \n",
    "    auc_dict: dict\n",
    "        The dictionary for the AUC of each CV fold.\n",
    "\n",
    "    auc_mean_dict: dict\n",
    "        The dictionary for the mean AUC.\n",
    "    \n",
    "    acc_dict: dict\n",
    "        The dictionary for accuracy for each CV fold\n",
    "    \n",
    "    acc_mean_dict: dict\n",
    "        The dictionary for accuracy for the mean accuracy \n",
    "    '''\n",
    "    i=0\n",
    "    auc_dict=defaultdict(list)\n",
    "    acc_dict=defaultdict(list)\n",
    "    bayes_dict=defaultdict(list)\n",
    "    for train_index,test_index in k_fold.split(emails_clean,labels):\n",
    "        print('CV {} Fold'.format(i))\n",
    "        for iteration in product(*args):\n",
    "            max_features,smoothing=iteration\n",
    "            _,X_train_term_cv,X_test_term_cv=countvectorizer([emails_clean[i] for i in train_index],[emails_clean[i] for i in test_index],max_features=max_features)\n",
    "            y_train_cv=[labels[i] for i in train_index]\n",
    "            y_test_cv=[labels[i] for i in test_index]\n",
    "            bayes_dict[iteration].append(Bayes(X_train_term_cv,y_train_cv,X_test_term_cv,y_test_cv,smoothing=smoothing))\n",
    "            bayes_dict[iteration][i].fit()\n",
    "            auc_dict[iteration].append(sklearn.metrics.roc_auc_score(y_test_cv,bayes_dict[iteration][i].posterior.Spam))\n",
    "            acc_dict[iteration].append(sklearn.metrics.accuracy_score(y_test_cv,bayes_dict[iteration][i].prediction))\n",
    "        i+=1\n",
    "    \n",
    "    auc_mean_dict={}\n",
    "    for iteration in product(*args):\n",
    "        auc_mean_dict[iteration]=np.mean(auc_dict[iteration])\n",
    "        \n",
    "    acc_mean_dict={}\n",
    "    for iteration in product(*args):\n",
    "        acc_mean_dict[iteration]=np.mean(acc_dict[iteration])\n",
    "    return bayes_dict,auc_dict, auc_mean_dict, acc_dict, acc_mean_dict\n"
   ]
  },
  {
   "cell_type": "code",
   "execution_count": 24,
   "metadata": {},
   "outputs": [
    {
     "name": "stdout",
     "output_type": "stream",
     "text": [
      "CV 0 Fold\n",
      "CV 1 Fold\n",
      "CV 2 Fold\n",
      "CV 3 Fold\n",
      "CV 4 Fold\n"
     ]
    }
   ],
   "source": [
    "bayes_dict_bayes,auc_dict_bayes, auc_mean_dict_bayes, acc_dict_bayes, acc_mean_dict_bayes=cross_validation(max_features_option_bayes,smoothing_factor_option_bayes)"
   ]
  },
  {
   "cell_type": "code",
   "execution_count": 25,
   "metadata": {},
   "outputs": [
    {
     "data": {
      "text/html": [
       "<div>\n",
       "<style scoped>\n",
       "    .dataframe tbody tr th:only-of-type {\n",
       "        vertical-align: middle;\n",
       "    }\n",
       "\n",
       "    .dataframe tbody tr th {\n",
       "        vertical-align: top;\n",
       "    }\n",
       "\n",
       "    .dataframe thead th {\n",
       "        text-align: right;\n",
       "    }\n",
       "</style>\n",
       "<table border=\"1\" class=\"dataframe\">\n",
       "  <thead>\n",
       "    <tr style=\"text-align: right;\">\n",
       "      <th></th>\n",
       "      <th>Params(max_features,smoothing)</th>\n",
       "      <th>accuracy</th>\n",
       "    </tr>\n",
       "    <tr>\n",
       "      <th>Sorted by AUC</th>\n",
       "      <th></th>\n",
       "      <th></th>\n",
       "    </tr>\n",
       "  </thead>\n",
       "  <tbody>\n",
       "    <tr>\n",
       "      <th>0.996797</th>\n",
       "      <td>(None, 0.5)</td>\n",
       "      <td>0.986979</td>\n",
       "    </tr>\n",
       "    <tr>\n",
       "      <th>0.996684</th>\n",
       "      <td>(None, 1)</td>\n",
       "      <td>0.986446</td>\n",
       "    </tr>\n",
       "    <tr>\n",
       "      <th>0.996584</th>\n",
       "      <td>(None, 2)</td>\n",
       "      <td>0.986001</td>\n",
       "    </tr>\n",
       "    <tr>\n",
       "      <th>0.990802</th>\n",
       "      <td>(2000, 0.5)</td>\n",
       "      <td>0.971468</td>\n",
       "    </tr>\n",
       "    <tr>\n",
       "      <th>0.990688</th>\n",
       "      <td>(2000, 1)</td>\n",
       "      <td>0.971379</td>\n",
       "    </tr>\n",
       "    <tr>\n",
       "      <th>0.990555</th>\n",
       "      <td>(2000, 2)</td>\n",
       "      <td>0.971171</td>\n",
       "    </tr>\n",
       "    <tr>\n",
       "      <th>0.977814</th>\n",
       "      <td>(500, 0.5)</td>\n",
       "      <td>0.948333</td>\n",
       "    </tr>\n",
       "    <tr>\n",
       "      <th>0.977652</th>\n",
       "      <td>(500, 1)</td>\n",
       "      <td>0.948274</td>\n",
       "    </tr>\n",
       "    <tr>\n",
       "      <th>0.977440</th>\n",
       "      <td>(500, 2)</td>\n",
       "      <td>0.948066</td>\n",
       "    </tr>\n",
       "  </tbody>\n",
       "</table>\n",
       "</div>"
      ],
      "text/plain": [
       "              Params(max_features,smoothing)  accuracy\n",
       "Sorted by AUC                                         \n",
       "0.996797                         (None, 0.5)  0.986979\n",
       "0.996684                           (None, 1)  0.986446\n",
       "0.996584                           (None, 2)  0.986001\n",
       "0.990802                         (2000, 0.5)  0.971468\n",
       "0.990688                           (2000, 1)  0.971379\n",
       "0.990555                           (2000, 2)  0.971171\n",
       "0.977814                          (500, 0.5)  0.948333\n",
       "0.977652                            (500, 1)  0.948274\n",
       "0.977440                            (500, 2)  0.948066"
      ]
     },
     "execution_count": 25,
     "metadata": {},
     "output_type": "execute_result"
    }
   ],
   "source": [
    "pd.DataFrame({'Params(max_features,smoothing)':list(auc_mean_dict_bayes.keys()),'AUC_ROC':list(auc_mean_dict_bayes.values()),'accuracy':list(list(acc_mean_dict_bayes.values()))}).sort_values('AUC_ROC',ascending=False).set_index('AUC_ROC').rename_axis('Sorted by AUC')"
   ]
  },
  {
   "cell_type": "code",
   "execution_count": 26,
   "metadata": {},
   "outputs": [
    {
     "data": {
      "text/html": [
       "<div>\n",
       "<style scoped>\n",
       "    .dataframe tbody tr th:only-of-type {\n",
       "        vertical-align: middle;\n",
       "    }\n",
       "\n",
       "    .dataframe tbody tr th {\n",
       "        vertical-align: top;\n",
       "    }\n",
       "\n",
       "    .dataframe thead th {\n",
       "        text-align: right;\n",
       "    }\n",
       "</style>\n",
       "<table border=\"1\" class=\"dataframe\">\n",
       "  <thead>\n",
       "    <tr style=\"text-align: right;\">\n",
       "      <th></th>\n",
       "      <th>Params(max_features,smoothing)</th>\n",
       "      <th>AUC_ROC</th>\n",
       "    </tr>\n",
       "    <tr>\n",
       "      <th>Sorted by accuracy</th>\n",
       "      <th></th>\n",
       "      <th></th>\n",
       "    </tr>\n",
       "  </thead>\n",
       "  <tbody>\n",
       "    <tr>\n",
       "      <th>0.986979</th>\n",
       "      <td>(None, 0.5)</td>\n",
       "      <td>0.996797</td>\n",
       "    </tr>\n",
       "    <tr>\n",
       "      <th>0.986446</th>\n",
       "      <td>(None, 1)</td>\n",
       "      <td>0.996684</td>\n",
       "    </tr>\n",
       "    <tr>\n",
       "      <th>0.986001</th>\n",
       "      <td>(None, 2)</td>\n",
       "      <td>0.996584</td>\n",
       "    </tr>\n",
       "    <tr>\n",
       "      <th>0.971468</th>\n",
       "      <td>(2000, 0.5)</td>\n",
       "      <td>0.990802</td>\n",
       "    </tr>\n",
       "    <tr>\n",
       "      <th>0.971379</th>\n",
       "      <td>(2000, 1)</td>\n",
       "      <td>0.990688</td>\n",
       "    </tr>\n",
       "    <tr>\n",
       "      <th>0.971171</th>\n",
       "      <td>(2000, 2)</td>\n",
       "      <td>0.990555</td>\n",
       "    </tr>\n",
       "    <tr>\n",
       "      <th>0.948333</th>\n",
       "      <td>(500, 0.5)</td>\n",
       "      <td>0.977814</td>\n",
       "    </tr>\n",
       "    <tr>\n",
       "      <th>0.948274</th>\n",
       "      <td>(500, 1)</td>\n",
       "      <td>0.977652</td>\n",
       "    </tr>\n",
       "    <tr>\n",
       "      <th>0.948066</th>\n",
       "      <td>(500, 2)</td>\n",
       "      <td>0.977440</td>\n",
       "    </tr>\n",
       "  </tbody>\n",
       "</table>\n",
       "</div>"
      ],
      "text/plain": [
       "                   Params(max_features,smoothing)   AUC_ROC\n",
       "Sorted by accuracy                                         \n",
       "0.986979                              (None, 0.5)  0.996797\n",
       "0.986446                                (None, 1)  0.996684\n",
       "0.986001                                (None, 2)  0.996584\n",
       "0.971468                              (2000, 0.5)  0.990802\n",
       "0.971379                                (2000, 1)  0.990688\n",
       "0.971171                                (2000, 2)  0.990555\n",
       "0.948333                               (500, 0.5)  0.977814\n",
       "0.948274                                 (500, 1)  0.977652\n",
       "0.948066                                 (500, 2)  0.977440"
      ]
     },
     "execution_count": 26,
     "metadata": {},
     "output_type": "execute_result"
    }
   ],
   "source": [
    "pd.DataFrame({'Params(max_features,smoothing)':list(auc_mean_dict_bayes.keys()),'AUC_ROC':list(auc_mean_dict_bayes.values()),'accuracy':list(list(acc_mean_dict_bayes.values()))}).sort_values('accuracy',ascending=False).set_index('accuracy').rename_axis('Sorted by accuracy')"
   ]
  },
  {
   "cell_type": "markdown",
   "metadata": {},
   "source": [
    ">**A coarse search indicates that `max_features=None` and small smoothing generally perform better, which neccesitates a fine search on the optimal smoothing factor.**"
   ]
  },
  {
   "cell_type": "markdown",
   "metadata": {},
   "source": [
    "#### fine search"
   ]
  },
  {
   "cell_type": "code",
   "execution_count": 27,
   "metadata": {},
   "outputs": [],
   "source": [
    "max_features_option_bayes_fine=[None,]\n",
    "smoothing_factor_option_bayes_fine=10**np.arange(-3,1,0.5)"
   ]
  },
  {
   "cell_type": "code",
   "execution_count": 28,
   "metadata": {},
   "outputs": [
    {
     "name": "stdout",
     "output_type": "stream",
     "text": [
      "CV 0 Fold\n",
      "CV 1 Fold\n",
      "CV 2 Fold\n",
      "CV 3 Fold\n",
      "CV 4 Fold\n"
     ]
    }
   ],
   "source": [
    "bayes_dict_bayes_fine,auc_dict_bayes_fine, auc_mean_dict_bayes_fine, acc_dict_bayes_fine, acc_mean_dict_bayes_fine =cross_validation(max_features_option_bayes_fine,smoothing_factor_option_bayes_fine)"
   ]
  },
  {
   "cell_type": "code",
   "execution_count": 30,
   "metadata": {},
   "outputs": [
    {
     "data": {
      "text/html": [
       "<div>\n",
       "<style scoped>\n",
       "    .dataframe tbody tr th:only-of-type {\n",
       "        vertical-align: middle;\n",
       "    }\n",
       "\n",
       "    .dataframe tbody tr th {\n",
       "        vertical-align: top;\n",
       "    }\n",
       "\n",
       "    .dataframe thead th {\n",
       "        text-align: right;\n",
       "    }\n",
       "</style>\n",
       "<table border=\"1\" class=\"dataframe\">\n",
       "  <thead>\n",
       "    <tr style=\"text-align: right;\">\n",
       "      <th></th>\n",
       "      <th>Params(max_features,smoothing)</th>\n",
       "      <th>accuracy</th>\n",
       "    </tr>\n",
       "    <tr>\n",
       "      <th>Sorted by AUC</th>\n",
       "      <th></th>\n",
       "      <th></th>\n",
       "    </tr>\n",
       "  </thead>\n",
       "  <tbody>\n",
       "    <tr>\n",
       "      <th>0.997092</th>\n",
       "      <td>(None, 0.01)</td>\n",
       "      <td>0.987276</td>\n",
       "    </tr>\n",
       "    <tr>\n",
       "      <th>0.997074</th>\n",
       "      <td>(None, 0.03162277660168379)</td>\n",
       "      <td>0.987276</td>\n",
       "    </tr>\n",
       "    <tr>\n",
       "      <th>0.997025</th>\n",
       "      <td>(None, 0.0031622776601683794)</td>\n",
       "      <td>0.987187</td>\n",
       "    </tr>\n",
       "    <tr>\n",
       "      <th>0.996986</th>\n",
       "      <td>(None, 0.1)</td>\n",
       "      <td>0.987187</td>\n",
       "    </tr>\n",
       "    <tr>\n",
       "      <th>0.996914</th>\n",
       "      <td>(None, 0.001)</td>\n",
       "      <td>0.987098</td>\n",
       "    </tr>\n",
       "    <tr>\n",
       "      <th>0.996878</th>\n",
       "      <td>(None, 0.31622776601683794)</td>\n",
       "      <td>0.987098</td>\n",
       "    </tr>\n",
       "    <tr>\n",
       "      <th>0.996684</th>\n",
       "      <td>(None, 1.0)</td>\n",
       "      <td>0.986446</td>\n",
       "    </tr>\n",
       "    <tr>\n",
       "      <th>0.996467</th>\n",
       "      <td>(None, 3.1622776601683795)</td>\n",
       "      <td>0.985319</td>\n",
       "    </tr>\n",
       "  </tbody>\n",
       "</table>\n",
       "</div>"
      ],
      "text/plain": [
       "              Params(max_features,smoothing)  accuracy\n",
       "Sorted by AUC                                         \n",
       "0.997092                        (None, 0.01)  0.987276\n",
       "0.997074         (None, 0.03162277660168379)  0.987276\n",
       "0.997025       (None, 0.0031622776601683794)  0.987187\n",
       "0.996986                         (None, 0.1)  0.987187\n",
       "0.996914                       (None, 0.001)  0.987098\n",
       "0.996878         (None, 0.31622776601683794)  0.987098\n",
       "0.996684                         (None, 1.0)  0.986446\n",
       "0.996467          (None, 3.1622776601683795)  0.985319"
      ]
     },
     "execution_count": 30,
     "metadata": {},
     "output_type": "execute_result"
    }
   ],
   "source": [
    "pd.DataFrame({'Params(max_features,smoothing)':list(auc_mean_dict_bayes_fine.keys()),'AUC_ROC':list(auc_mean_dict_bayes_fine.values()),'accuracy':list(list(acc_mean_dict_bayes_fine.values()))}).sort_values('AUC_ROC',ascending=False).set_index('AUC_ROC').rename_axis('Sorted by AUC')"
   ]
  },
  {
   "cell_type": "code",
   "execution_count": 31,
   "metadata": {},
   "outputs": [
    {
     "data": {
      "text/html": [
       "<div>\n",
       "<style scoped>\n",
       "    .dataframe tbody tr th:only-of-type {\n",
       "        vertical-align: middle;\n",
       "    }\n",
       "\n",
       "    .dataframe tbody tr th {\n",
       "        vertical-align: top;\n",
       "    }\n",
       "\n",
       "    .dataframe thead th {\n",
       "        text-align: right;\n",
       "    }\n",
       "</style>\n",
       "<table border=\"1\" class=\"dataframe\">\n",
       "  <thead>\n",
       "    <tr style=\"text-align: right;\">\n",
       "      <th></th>\n",
       "      <th>Params(max_features,smoothing)</th>\n",
       "      <th>AUC_ROC</th>\n",
       "    </tr>\n",
       "    <tr>\n",
       "      <th>Sorted by accuracy</th>\n",
       "      <th></th>\n",
       "      <th></th>\n",
       "    </tr>\n",
       "  </thead>\n",
       "  <tbody>\n",
       "    <tr>\n",
       "      <th>0.987276</th>\n",
       "      <td>(None, 0.01)</td>\n",
       "      <td>0.997092</td>\n",
       "    </tr>\n",
       "    <tr>\n",
       "      <th>0.987276</th>\n",
       "      <td>(None, 0.03162277660168379)</td>\n",
       "      <td>0.997074</td>\n",
       "    </tr>\n",
       "    <tr>\n",
       "      <th>0.987187</th>\n",
       "      <td>(None, 0.0031622776601683794)</td>\n",
       "      <td>0.997025</td>\n",
       "    </tr>\n",
       "    <tr>\n",
       "      <th>0.987187</th>\n",
       "      <td>(None, 0.1)</td>\n",
       "      <td>0.996986</td>\n",
       "    </tr>\n",
       "    <tr>\n",
       "      <th>0.987098</th>\n",
       "      <td>(None, 0.001)</td>\n",
       "      <td>0.996914</td>\n",
       "    </tr>\n",
       "    <tr>\n",
       "      <th>0.987098</th>\n",
       "      <td>(None, 0.31622776601683794)</td>\n",
       "      <td>0.996878</td>\n",
       "    </tr>\n",
       "    <tr>\n",
       "      <th>0.986446</th>\n",
       "      <td>(None, 1.0)</td>\n",
       "      <td>0.996684</td>\n",
       "    </tr>\n",
       "    <tr>\n",
       "      <th>0.985319</th>\n",
       "      <td>(None, 3.1622776601683795)</td>\n",
       "      <td>0.996467</td>\n",
       "    </tr>\n",
       "  </tbody>\n",
       "</table>\n",
       "</div>"
      ],
      "text/plain": [
       "                   Params(max_features,smoothing)   AUC_ROC\n",
       "Sorted by accuracy                                         \n",
       "0.987276                             (None, 0.01)  0.997092\n",
       "0.987276              (None, 0.03162277660168379)  0.997074\n",
       "0.987187            (None, 0.0031622776601683794)  0.997025\n",
       "0.987187                              (None, 0.1)  0.996986\n",
       "0.987098                            (None, 0.001)  0.996914\n",
       "0.987098              (None, 0.31622776601683794)  0.996878\n",
       "0.986446                              (None, 1.0)  0.996684\n",
       "0.985319               (None, 3.1622776601683795)  0.996467"
      ]
     },
     "execution_count": 31,
     "metadata": {},
     "output_type": "execute_result"
    }
   ],
   "source": [
    "pd.DataFrame({'Params(max_features,smoothing)':list(auc_mean_dict_bayes_fine.keys()),'AUC_ROC':list(auc_mean_dict_bayes_fine.values()),'accuracy':list(list(acc_mean_dict_bayes_fine.values()))}).sort_values('accuracy',ascending=False).set_index('accuracy').rename_axis('Sorted by accuracy')"
   ]
  },
  {
   "cell_type": "code",
   "execution_count": 32,
   "metadata": {},
   "outputs": [
    {
     "data": {
      "image/png": "[encoded data removed]",
      "text/plain": [
       "<Figure size 432x288 with 2 Axes>"
      ]
     },
     "metadata": {
      "needs_background": "light"
     },
     "output_type": "display_data"
    }
   ],
   "source": [
    "fig,ax=plt.subplots()\n",
    "ax.plot(smoothing_factor_option_bayes_fine,[auc_mean_dict_bayes_fine[(None,i)] for i in smoothing_factor_option_bayes_fine],'r')\n",
    "ax1=ax.twinx()\n",
    "ax1.plot(smoothing_factor_option_bayes_fine,[acc_mean_dict_bayes_fine[(None,i)] for i in smoothing_factor_option_bayes_fine],'b')\n",
    "\n",
    "ax.set_xlabel('smoothing')\n",
    "ax.set_ylabel('ROC_AUC')\n",
    "ax.set_ylabel('accuracy')\n",
    "ax.tick_params(axis='y', labelcolor='r')\n",
    "ax1.tick_params(axis='y', labelcolor='b')\n",
    "ax.set_xscale('log')"
   ]
  },
  {
   "cell_type": "markdown",
   "metadata": {},
   "source": [
    ">**The optimal parameter is chosen at `max_features=None` and `smoothing=0.01` in the naive Bayes model.**"
   ]
  },
  {
   "cell_type": "code",
   "execution_count": 33,
   "metadata": {},
   "outputs": [
    {
     "name": "stdout",
     "output_type": "stream",
     "text": [
      "Best esimate of ROC_AUC: 0.9971\n",
      "Best esimate of accuracy: 0.9873\n"
     ]
    }
   ],
   "source": [
    "best_auc_bayes,best_acc_bayes=auc_mean_dict_bayes_fine[(None,0.01)],acc_mean_dict_bayes_fine[(None,0.01)]\n",
    "print('Best esimate of ROC_AUC: {:.4f}'.format(best_auc_bayes))\n",
    "print('Best esimate of accuracy: {:.4f}'.format(best_acc_bayes))"
   ]
  },
  {
   "cell_type": "markdown",
   "metadata": {},
   "source": [
    "## Sklearn `MultinomialNB`"
   ]
  },
  {
   "cell_type": "markdown",
   "metadata": {},
   "source": [
    "### Split training and test data"
   ]
  },
  {
   "cell_type": "code",
   "execution_count": 34,
   "metadata": {},
   "outputs": [],
   "source": [
    "from sklearn.naive_bayes import MultinomialNB"
   ]
  },
  {
   "cell_type": "code",
   "execution_count": 35,
   "metadata": {},
   "outputs": [],
   "source": [
    "X_train,X_test,y_train,y_test=train_test_split(emails_clean,labels,test_size=0.33,random_state=42)"
   ]
  },
  {
   "cell_type": "code",
   "execution_count": 36,
   "metadata": {},
   "outputs": [],
   "source": [
    "cv,X_train_term,X_test_term=countvectorizer(X_train,X_test)"
   ]
  },
  {
   "cell_type": "code",
   "execution_count": 37,
   "metadata": {},
   "outputs": [],
   "source": [
    "clf=MultinomialNB(alpha=1,fit_prior=True)"
   ]
  },
  {
   "cell_type": "code",
   "execution_count": 38,
   "metadata": {},
   "outputs": [
    {
     "data": {
      "text/plain": [
       "MultinomialNB(alpha=1)"
      ]
     },
     "execution_count": 38,
     "metadata": {},
     "output_type": "execute_result"
    }
   ],
   "source": [
    "clf.fit(X_train_term,y_train)"
   ]
  },
  {
   "cell_type": "markdown",
   "metadata": {},
   "source": [
    "### Metrics: confusion matrix, accuracy, precision, recall, F1 score, AUC of ROC"
   ]
  },
  {
   "cell_type": "code",
   "execution_count": 39,
   "metadata": {},
   "outputs": [],
   "source": [
    "y_test_pred=clf.predict(X_test_term)"
   ]
  },
  {
   "cell_type": "code",
   "execution_count": 40,
   "metadata": {},
   "outputs": [
    {
     "data": {
      "text/plain": [
       "0.9636020490698302"
      ]
     },
     "execution_count": 40,
     "metadata": {},
     "output_type": "execute_result"
    }
   ],
   "source": [
    "clf.score(X_test_term,y_test)"
   ]
  },
  {
   "cell_type": "code",
   "execution_count": 41,
   "metadata": {},
   "outputs": [
    {
     "data": {
      "text/plain": [
       "array([[5283,  241],\n",
       "       [ 164, 5439]])"
      ]
     },
     "execution_count": 41,
     "metadata": {},
     "output_type": "execute_result"
    }
   ],
   "source": [
    "sklearn.metrics.confusion_matrix(y_test,clf.predict(X_test_term),labels=[0,1])"
   ]
  },
  {
   "cell_type": "code",
   "execution_count": 42,
   "metadata": {},
   "outputs": [
    {
     "name": "stdout",
     "output_type": "stream",
     "text": [
      "              precision    recall  f1-score   support\n",
      "\n",
      "           0       0.97      0.96      0.96      5524\n",
      "           1       0.96      0.97      0.96      5603\n",
      "\n",
      "    accuracy                           0.96     11127\n",
      "   macro avg       0.96      0.96      0.96     11127\n",
      "weighted avg       0.96      0.96      0.96     11127\n",
      "\n"
     ]
    }
   ],
   "source": [
    "print(sklearn.metrics.classification_report(y_test,clf.predict(X_test_term)))"
   ]
  },
  {
   "cell_type": "code",
   "execution_count": 43,
   "metadata": {},
   "outputs": [],
   "source": [
    "FP_list_bayes_sk,TP_list_bayes_sk,threshold_list_bayes_sk=sklearn.metrics.roc_curve(y_test,clf.predict_proba(X_test_term)[:,1],pos_label=1)"
   ]
  },
  {
   "cell_type": "code",
   "execution_count": 44,
   "metadata": {},
   "outputs": [
    {
     "data": {
      "text/plain": [
       "Text(0.5, 1.0, 'AUC of ROC=0.98680')"
      ]
     },
     "execution_count": 44,
     "metadata": {},
     "output_type": "execute_result"
    },
    {
     "data": {
      "image/png": "[encoded data removed]",
      "text/plain": [
       "<Figure size 432x288 with 1 Axes>"
      ]
     },
     "metadata": {
      "needs_background": "light"
     },
     "output_type": "display_data"
    }
   ],
   "source": [
    "fig,ax=plt.subplots()\n",
    "ax.plot(FP_list_bayes_sk,TP_list_bayes_sk)\n",
    "ax.set_xlim([0,1])\n",
    "ax.set_ylim([0,1.03])\n",
    "ax.set_xlabel('False positive rate')\n",
    "ax.set_ylabel('True positive rate')\n",
    "ax.set_title('AUC of ROC={:.5f}'.format(np.diff(FP_list_bayes_sk)@(TP_list_bayes_sk[1:]+TP_list_bayes_sk[:-1])/2))"
   ]
  },
  {
   "cell_type": "code",
   "execution_count": 45,
   "metadata": {},
   "outputs": [
    {
     "name": "stdout",
     "output_type": "stream",
     "text": [
      "AUC of ROC is 0.986797\n"
     ]
    }
   ],
   "source": [
    "print('AUC of ROC is {:f}'.format(sklearn.metrics.roc_auc_score(y_test,clf.predict_proba(X_test_term)[:,1])))"
   ]
  },
  {
   "cell_type": "markdown",
   "metadata": {},
   "source": [
    ">**The results are the same as the Bayes model from scratch.**"
   ]
  },
  {
   "cell_type": "markdown",
   "metadata": {},
   "source": [
    "### Cross validation to fine-tune parameters"
   ]
  },
  {
   "cell_type": "code",
   "execution_count": 46,
   "metadata": {},
   "outputs": [],
   "source": [
    "from sklearn.model_selection import GridSearchCV\n",
    "from sklearn.pipeline import Pipeline"
   ]
  },
  {
   "cell_type": "markdown",
   "metadata": {},
   "source": [
    "#### Coarse search"
   ]
  },
  {
   "cell_type": "code",
   "execution_count": 47,
   "metadata": {},
   "outputs": [],
   "source": [
    "max_features_option_bayes_sk=[500,2000,None]\n",
    "smoothing_factor_option_bayes_sk=[.5,1,2]"
   ]
  },
  {
   "cell_type": "code",
   "execution_count": 48,
   "metadata": {},
   "outputs": [],
   "source": [
    "pipeline_bayes_sk=Pipeline([('cv',CountVectorizer(stop_words='english',max_df=0.5,min_df=2)),('clf',MultinomialNB(fit_prior=True))])\n",
    "parameters_pipeline_bayes_sk={'cv__max_features':max_features_option_bayes_sk,'clf__alpha':smoothing_factor_option_bayes_sk}"
   ]
  },
  {
   "cell_type": "code",
   "execution_count": 49,
   "metadata": {},
   "outputs": [
    {
     "name": "stdout",
     "output_type": "stream",
     "text": [
      "Fitting 5 folds for each of 9 candidates, totalling 45 fits\n"
     ]
    },
    {
     "data": {
      "text/plain": [
       "GridSearchCV(cv=StratifiedKFold(n_splits=5, random_state=42, shuffle=True),\n",
       "             estimator=Pipeline(steps=[('cv',\n",
       "                                        CountVectorizer(max_df=0.5, min_df=2,\n",
       "                                                        stop_words='english')),\n",
       "                                       ('clf', MultinomialNB())]),\n",
       "             n_jobs=-1,\n",
       "             param_grid={'clf__alpha': [0.5, 1, 2],\n",
       "                         'cv__max_features': [500, 2000, None]},\n",
       "             refit=False, scoring=['roc_auc', 'accuracy'], verbose=1)"
      ]
     },
     "execution_count": 49,
     "metadata": {},
     "output_type": "execute_result"
    }
   ],
   "source": [
    "grid_search_bayes_sk=GridSearchCV(pipeline_bayes_sk,parameters_pipeline_bayes_sk,n_jobs=-1,cv=k_fold,verbose=1,scoring=['roc_auc','accuracy'],refit=False)\n",
    "grid_search_bayes_sk.fit(emails_clean,labels)"
   ]
  },
  {
   "cell_type": "code",
   "execution_count": 50,
   "metadata": {},
   "outputs": [],
   "source": [
    "cv_results_df_bayes_sk=pd.DataFrame(grid_search_bayes_sk.cv_results_)"
   ]
  },
  {
   "cell_type": "code",
   "execution_count": 51,
   "metadata": {},
   "outputs": [
    {
     "data": {
      "text/html": [
       "<div>\n",
       "<style scoped>\n",
       "    .dataframe tbody tr th:only-of-type {\n",
       "        vertical-align: middle;\n",
       "    }\n",
       "\n",
       "    .dataframe tbody tr th {\n",
       "        vertical-align: top;\n",
       "    }\n",
       "\n",
       "    .dataframe thead th {\n",
       "        text-align: right;\n",
       "    }\n",
       "</style>\n",
       "<table border=\"1\" class=\"dataframe\">\n",
       "  <thead>\n",
       "    <tr style=\"text-align: right;\">\n",
       "      <th></th>\n",
       "      <th>params</th>\n",
       "      <th>mean_test_accuracy</th>\n",
       "    </tr>\n",
       "    <tr>\n",
       "      <th>Sorted by AUC</th>\n",
       "      <th></th>\n",
       "      <th></th>\n",
       "    </tr>\n",
       "  </thead>\n",
       "  <tbody>\n",
       "    <tr>\n",
       "      <th>0.996842</th>\n",
       "      <td>{'clf__alpha': 0.5, 'cv__max_features': None}</td>\n",
       "      <td>0.986979</td>\n",
       "    </tr>\n",
       "    <tr>\n",
       "      <th>0.996689</th>\n",
       "      <td>{'clf__alpha': 1, 'cv__max_features': None}</td>\n",
       "      <td>0.986446</td>\n",
       "    </tr>\n",
       "    <tr>\n",
       "      <th>0.996519</th>\n",
       "      <td>{'clf__alpha': 2, 'cv__max_features': None}</td>\n",
       "      <td>0.986001</td>\n",
       "    </tr>\n",
       "    <tr>\n",
       "      <th>0.990749</th>\n",
       "      <td>{'clf__alpha': 0.5, 'cv__max_features': 2000}</td>\n",
       "      <td>0.971468</td>\n",
       "    </tr>\n",
       "    <tr>\n",
       "      <th>0.990638</th>\n",
       "      <td>{'clf__alpha': 1, 'cv__max_features': 2000}</td>\n",
       "      <td>0.971379</td>\n",
       "    </tr>\n",
       "    <tr>\n",
       "      <th>0.990487</th>\n",
       "      <td>{'clf__alpha': 2, 'cv__max_features': 2000}</td>\n",
       "      <td>0.971171</td>\n",
       "    </tr>\n",
       "    <tr>\n",
       "      <th>0.977768</th>\n",
       "      <td>{'clf__alpha': 0.5, 'cv__max_features': 500}</td>\n",
       "      <td>0.948333</td>\n",
       "    </tr>\n",
       "    <tr>\n",
       "      <th>0.977615</th>\n",
       "      <td>{'clf__alpha': 1, 'cv__max_features': 500}</td>\n",
       "      <td>0.948274</td>\n",
       "    </tr>\n",
       "    <tr>\n",
       "      <th>0.977399</th>\n",
       "      <td>{'clf__alpha': 2, 'cv__max_features': 500}</td>\n",
       "      <td>0.948066</td>\n",
       "    </tr>\n",
       "  </tbody>\n",
       "</table>\n",
       "</div>"
      ],
      "text/plain": [
       "                                                      params  \\\n",
       "Sorted by AUC                                                  \n",
       "0.996842       {'clf__alpha': 0.5, 'cv__max_features': None}   \n",
       "0.996689         {'clf__alpha': 1, 'cv__max_features': None}   \n",
       "0.996519         {'clf__alpha': 2, 'cv__max_features': None}   \n",
       "0.990749       {'clf__alpha': 0.5, 'cv__max_features': 2000}   \n",
       "0.990638         {'clf__alpha': 1, 'cv__max_features': 2000}   \n",
       "0.990487         {'clf__alpha': 2, 'cv__max_features': 2000}   \n",
       "0.977768        {'clf__alpha': 0.5, 'cv__max_features': 500}   \n",
       "0.977615          {'clf__alpha': 1, 'cv__max_features': 500}   \n",
       "0.977399          {'clf__alpha': 2, 'cv__max_features': 500}   \n",
       "\n",
       "               mean_test_accuracy  \n",
       "Sorted by AUC                      \n",
       "0.996842                 0.986979  \n",
       "0.996689                 0.986446  \n",
       "0.996519                 0.986001  \n",
       "0.990749                 0.971468  \n",
       "0.990638                 0.971379  \n",
       "0.990487                 0.971171  \n",
       "0.977768                 0.948333  \n",
       "0.977615                 0.948274  \n",
       "0.977399                 0.948066  "
      ]
     },
     "execution_count": 51,
     "metadata": {},
     "output_type": "execute_result"
    }
   ],
   "source": [
    "cv_results_df_bayes_sk.sort_values('mean_test_roc_auc',ascending=False).loc[:,['params','mean_test_roc_auc','mean_test_accuracy']].set_index('mean_test_roc_auc').rename_axis('Sorted by AUC')"
   ]
  },
  {
   "cell_type": "code",
   "execution_count": 52,
   "metadata": {},
   "outputs": [
    {
     "data": {
      "text/html": [
       "<div>\n",
       "<style scoped>\n",
       "    .dataframe tbody tr th:only-of-type {\n",
       "        vertical-align: middle;\n",
       "    }\n",
       "\n",
       "    .dataframe tbody tr th {\n",
       "        vertical-align: top;\n",
       "    }\n",
       "\n",
       "    .dataframe thead th {\n",
       "        text-align: right;\n",
       "    }\n",
       "</style>\n",
       "<table border=\"1\" class=\"dataframe\">\n",
       "  <thead>\n",
       "    <tr style=\"text-align: right;\">\n",
       "      <th></th>\n",
       "      <th>params</th>\n",
       "      <th>mean_test_roc_auc</th>\n",
       "    </tr>\n",
       "    <tr>\n",
       "      <th>Sorted by accuracy</th>\n",
       "      <th></th>\n",
       "      <th></th>\n",
       "    </tr>\n",
       "  </thead>\n",
       "  <tbody>\n",
       "    <tr>\n",
       "      <th>0.986979</th>\n",
       "      <td>{'clf__alpha': 0.5, 'cv__max_features': None}</td>\n",
       "      <td>0.996842</td>\n",
       "    </tr>\n",
       "    <tr>\n",
       "      <th>0.986446</th>\n",
       "      <td>{'clf__alpha': 1, 'cv__max_features': None}</td>\n",
       "      <td>0.996689</td>\n",
       "    </tr>\n",
       "    <tr>\n",
       "      <th>0.986001</th>\n",
       "      <td>{'clf__alpha': 2, 'cv__max_features': None}</td>\n",
       "      <td>0.996519</td>\n",
       "    </tr>\n",
       "    <tr>\n",
       "      <th>0.971468</th>\n",
       "      <td>{'clf__alpha': 0.5, 'cv__max_features': 2000}</td>\n",
       "      <td>0.990749</td>\n",
       "    </tr>\n",
       "    <tr>\n",
       "      <th>0.971379</th>\n",
       "      <td>{'clf__alpha': 1, 'cv__max_features': 2000}</td>\n",
       "      <td>0.990638</td>\n",
       "    </tr>\n",
       "    <tr>\n",
       "      <th>0.971171</th>\n",
       "      <td>{'clf__alpha': 2, 'cv__max_features': 2000}</td>\n",
       "      <td>0.990487</td>\n",
       "    </tr>\n",
       "    <tr>\n",
       "      <th>0.948333</th>\n",
       "      <td>{'clf__alpha': 0.5, 'cv__max_features': 500}</td>\n",
       "      <td>0.977768</td>\n",
       "    </tr>\n",
       "    <tr>\n",
       "      <th>0.948274</th>\n",
       "      <td>{'clf__alpha': 1, 'cv__max_features': 500}</td>\n",
       "      <td>0.977615</td>\n",
       "    </tr>\n",
       "    <tr>\n",
       "      <th>0.948066</th>\n",
       "      <td>{'clf__alpha': 2, 'cv__max_features': 500}</td>\n",
       "      <td>0.977399</td>\n",
       "    </tr>\n",
       "  </tbody>\n",
       "</table>\n",
       "</div>"
      ],
      "text/plain": [
       "                                                           params  \\\n",
       "Sorted by accuracy                                                  \n",
       "0.986979            {'clf__alpha': 0.5, 'cv__max_features': None}   \n",
       "0.986446              {'clf__alpha': 1, 'cv__max_features': None}   \n",
       "0.986001              {'clf__alpha': 2, 'cv__max_features': None}   \n",
       "0.971468            {'clf__alpha': 0.5, 'cv__max_features': 2000}   \n",
       "0.971379              {'clf__alpha': 1, 'cv__max_features': 2000}   \n",
       "0.971171              {'clf__alpha': 2, 'cv__max_features': 2000}   \n",
       "0.948333             {'clf__alpha': 0.5, 'cv__max_features': 500}   \n",
       "0.948274               {'clf__alpha': 1, 'cv__max_features': 500}   \n",
       "0.948066               {'clf__alpha': 2, 'cv__max_features': 500}   \n",
       "\n",
       "                    mean_test_roc_auc  \n",
       "Sorted by accuracy                     \n",
       "0.986979                     0.996842  \n",
       "0.986446                     0.996689  \n",
       "0.986001                     0.996519  \n",
       "0.971468                     0.990749  \n",
       "0.971379                     0.990638  \n",
       "0.971171                     0.990487  \n",
       "0.948333                     0.977768  \n",
       "0.948274                     0.977615  \n",
       "0.948066                     0.977399  "
      ]
     },
     "execution_count": 52,
     "metadata": {},
     "output_type": "execute_result"
    }
   ],
   "source": [
    "cv_results_df_bayes_sk.sort_values('mean_test_accuracy',ascending=False).loc[:,['params','mean_test_roc_auc','mean_test_accuracy']].set_index('mean_test_accuracy').rename_axis('Sorted by').rename_axis('Sorted by accuracy')"
   ]
  },
  {
   "cell_type": "markdown",
   "metadata": {},
   "source": [
    ">**`max_features=None` generally performs better. The next steps is to fine-tune the `smoothing` factor given `max_features=None`.**"
   ]
  },
  {
   "cell_type": "markdown",
   "metadata": {},
   "source": [
    "#### Fine search"
   ]
  },
  {
   "cell_type": "code",
   "execution_count": 53,
   "metadata": {},
   "outputs": [],
   "source": [
    "smoothing_factor_option_bayes_sk_fine=10**np.arange(-3,1,0.5)\n",
    "parameters_pipeline_bayes_sk={'clf__alpha':smoothing_factor_option_bayes_sk_fine}"
   ]
  },
  {
   "cell_type": "code",
   "execution_count": 54,
   "metadata": {},
   "outputs": [],
   "source": [
    "grid_search_bayes_sk_fine=GridSearchCV(pipeline_bayes_sk,parameters_pipeline_bayes_sk,n_jobs=-1,cv=k_fold,verbose=1,scoring=['roc_auc','accuracy'],refit=False)"
   ]
  },
  {
   "cell_type": "code",
   "execution_count": 55,
   "metadata": {},
   "outputs": [
    {
     "name": "stdout",
     "output_type": "stream",
     "text": [
      "Fitting 5 folds for each of 8 candidates, totalling 40 fits\n"
     ]
    },
    {
     "data": {
      "text/plain": [
       "GridSearchCV(cv=StratifiedKFold(n_splits=5, random_state=42, shuffle=True),\n",
       "             estimator=Pipeline(steps=[('cv',\n",
       "                                        CountVectorizer(max_df=0.5, min_df=2,\n",
       "                                                        stop_words='english')),\n",
       "                                       ('clf', MultinomialNB())]),\n",
       "             n_jobs=-1,\n",
       "             param_grid={'clf__alpha': array([1.00000000e-03, 3.16227766e-03, 1.00000000e-02, 3.16227766e-02,\n",
       "       1.00000000e-01, 3.16227766e-01, 1.00000000e+00, 3.16227766e+00])},\n",
       "             refit=False, scoring=['roc_auc', 'accuracy'], verbose=1)"
      ]
     },
     "execution_count": 55,
     "metadata": {},
     "output_type": "execute_result"
    }
   ],
   "source": [
    "grid_search_bayes_sk_fine.fit(emails_clean,labels)"
   ]
  },
  {
   "cell_type": "code",
   "execution_count": 56,
   "metadata": {},
   "outputs": [],
   "source": [
    "cv_results_df_bayes_sk_fine=pd.DataFrame(grid_search_bayes_sk_fine.cv_results_)"
   ]
  },
  {
   "cell_type": "code",
   "execution_count": 57,
   "metadata": {},
   "outputs": [
    {
     "data": {
      "text/html": [
       "<div>\n",
       "<style scoped>\n",
       "    .dataframe tbody tr th:only-of-type {\n",
       "        vertical-align: middle;\n",
       "    }\n",
       "\n",
       "    .dataframe tbody tr th {\n",
       "        vertical-align: top;\n",
       "    }\n",
       "\n",
       "    .dataframe thead th {\n",
       "        text-align: right;\n",
       "    }\n",
       "</style>\n",
       "<table border=\"1\" class=\"dataframe\">\n",
       "  <thead>\n",
       "    <tr style=\"text-align: right;\">\n",
       "      <th></th>\n",
       "      <th>mean_fit_time</th>\n",
       "      <th>std_fit_time</th>\n",
       "      <th>mean_score_time</th>\n",
       "      <th>std_score_time</th>\n",
       "      <th>param_clf__alpha</th>\n",
       "      <th>params</th>\n",
       "      <th>split0_test_roc_auc</th>\n",
       "      <th>split1_test_roc_auc</th>\n",
       "      <th>split2_test_roc_auc</th>\n",
       "      <th>split3_test_roc_auc</th>\n",
       "      <th>...</th>\n",
       "      <th>std_test_roc_auc</th>\n",
       "      <th>rank_test_roc_auc</th>\n",
       "      <th>split0_test_accuracy</th>\n",
       "      <th>split1_test_accuracy</th>\n",
       "      <th>split2_test_accuracy</th>\n",
       "      <th>split3_test_accuracy</th>\n",
       "      <th>split4_test_accuracy</th>\n",
       "      <th>mean_test_accuracy</th>\n",
       "      <th>std_test_accuracy</th>\n",
       "      <th>rank_test_accuracy</th>\n",
       "    </tr>\n",
       "  </thead>\n",
       "  <tbody>\n",
       "    <tr>\n",
       "      <th>0</th>\n",
       "      <td>3.278318</td>\n",
       "      <td>0.219942</td>\n",
       "      <td>2.371848</td>\n",
       "      <td>0.348507</td>\n",
       "      <td>0.001</td>\n",
       "      <td>{'clf__alpha': 0.001}</td>\n",
       "      <td>0.995214</td>\n",
       "      <td>0.997271</td>\n",
       "      <td>0.996849</td>\n",
       "      <td>0.997197</td>\n",
       "      <td>...</td>\n",
       "      <td>0.000799</td>\n",
       "      <td>6</td>\n",
       "      <td>0.985320</td>\n",
       "      <td>0.985318</td>\n",
       "      <td>0.987543</td>\n",
       "      <td>0.988284</td>\n",
       "      <td>0.989026</td>\n",
       "      <td>0.987098</td>\n",
       "      <td>0.001526</td>\n",
       "      <td>5</td>\n",
       "    </tr>\n",
       "    <tr>\n",
       "      <th>1</th>\n",
       "      <td>4.211076</td>\n",
       "      <td>0.185294</td>\n",
       "      <td>2.649143</td>\n",
       "      <td>0.100262</td>\n",
       "      <td>0.003162</td>\n",
       "      <td>{'clf__alpha': 0.0031622776601683794}</td>\n",
       "      <td>0.995209</td>\n",
       "      <td>0.997478</td>\n",
       "      <td>0.997071</td>\n",
       "      <td>0.997202</td>\n",
       "      <td>...</td>\n",
       "      <td>0.000837</td>\n",
       "      <td>5</td>\n",
       "      <td>0.986210</td>\n",
       "      <td>0.984873</td>\n",
       "      <td>0.987543</td>\n",
       "      <td>0.988284</td>\n",
       "      <td>0.989026</td>\n",
       "      <td>0.987187</td>\n",
       "      <td>0.001485</td>\n",
       "      <td>3</td>\n",
       "    </tr>\n",
       "    <tr>\n",
       "      <th>2</th>\n",
       "      <td>4.790254</td>\n",
       "      <td>0.431222</td>\n",
       "      <td>2.432700</td>\n",
       "      <td>0.187875</td>\n",
       "      <td>0.01</td>\n",
       "      <td>{'clf__alpha': 0.01}</td>\n",
       "      <td>0.995412</td>\n",
       "      <td>0.997379</td>\n",
       "      <td>0.997022</td>\n",
       "      <td>0.997618</td>\n",
       "      <td>...</td>\n",
       "      <td>0.000795</td>\n",
       "      <td>2</td>\n",
       "      <td>0.986358</td>\n",
       "      <td>0.985022</td>\n",
       "      <td>0.987543</td>\n",
       "      <td>0.988581</td>\n",
       "      <td>0.988877</td>\n",
       "      <td>0.987276</td>\n",
       "      <td>0.001433</td>\n",
       "      <td>1</td>\n",
       "    </tr>\n",
       "    <tr>\n",
       "      <th>3</th>\n",
       "      <td>5.156910</td>\n",
       "      <td>0.560414</td>\n",
       "      <td>2.332056</td>\n",
       "      <td>0.335088</td>\n",
       "      <td>0.031623</td>\n",
       "      <td>{'clf__alpha': 0.03162277660168379}</td>\n",
       "      <td>0.995847</td>\n",
       "      <td>0.997046</td>\n",
       "      <td>0.996962</td>\n",
       "      <td>0.997643</td>\n",
       "      <td>...</td>\n",
       "      <td>0.000647</td>\n",
       "      <td>1</td>\n",
       "      <td>0.986655</td>\n",
       "      <td>0.984428</td>\n",
       "      <td>0.987543</td>\n",
       "      <td>0.988877</td>\n",
       "      <td>0.988877</td>\n",
       "      <td>0.987276</td>\n",
       "      <td>0.001655</td>\n",
       "      <td>2</td>\n",
       "    </tr>\n",
       "    <tr>\n",
       "      <th>4</th>\n",
       "      <td>5.616891</td>\n",
       "      <td>0.126990</td>\n",
       "      <td>2.132576</td>\n",
       "      <td>0.207193</td>\n",
       "      <td>0.1</td>\n",
       "      <td>{'clf__alpha': 0.1}</td>\n",
       "      <td>0.995841</td>\n",
       "      <td>0.996547</td>\n",
       "      <td>0.996858</td>\n",
       "      <td>0.997894</td>\n",
       "      <td>...</td>\n",
       "      <td>0.000708</td>\n",
       "      <td>3</td>\n",
       "      <td>0.986803</td>\n",
       "      <td>0.984577</td>\n",
       "      <td>0.987394</td>\n",
       "      <td>0.988284</td>\n",
       "      <td>0.988877</td>\n",
       "      <td>0.987187</td>\n",
       "      <td>0.001488</td>\n",
       "      <td>4</td>\n",
       "    </tr>\n",
       "    <tr>\n",
       "      <th>5</th>\n",
       "      <td>5.520371</td>\n",
       "      <td>0.193316</td>\n",
       "      <td>1.794696</td>\n",
       "      <td>0.255288</td>\n",
       "      <td>0.316228</td>\n",
       "      <td>{'clf__alpha': 0.31622776601683794}</td>\n",
       "      <td>0.995901</td>\n",
       "      <td>0.996499</td>\n",
       "      <td>0.996829</td>\n",
       "      <td>0.997828</td>\n",
       "      <td>...</td>\n",
       "      <td>0.000666</td>\n",
       "      <td>4</td>\n",
       "      <td>0.986951</td>\n",
       "      <td>0.983687</td>\n",
       "      <td>0.987394</td>\n",
       "      <td>0.988877</td>\n",
       "      <td>0.988581</td>\n",
       "      <td>0.987098</td>\n",
       "      <td>0.001850</td>\n",
       "      <td>6</td>\n",
       "    </tr>\n",
       "    <tr>\n",
       "      <th>6</th>\n",
       "      <td>5.251322</td>\n",
       "      <td>0.175823</td>\n",
       "      <td>1.615208</td>\n",
       "      <td>0.101760</td>\n",
       "      <td>1.0</td>\n",
       "      <td>{'clf__alpha': 1.0}</td>\n",
       "      <td>0.995798</td>\n",
       "      <td>0.996272</td>\n",
       "      <td>0.996662</td>\n",
       "      <td>0.997361</td>\n",
       "      <td>...</td>\n",
       "      <td>0.000610</td>\n",
       "      <td>7</td>\n",
       "      <td>0.985913</td>\n",
       "      <td>0.983538</td>\n",
       "      <td>0.986505</td>\n",
       "      <td>0.988284</td>\n",
       "      <td>0.987988</td>\n",
       "      <td>0.986446</td>\n",
       "      <td>0.001703</td>\n",
       "      <td>7</td>\n",
       "    </tr>\n",
       "    <tr>\n",
       "      <th>7</th>\n",
       "      <td>4.225534</td>\n",
       "      <td>0.435460</td>\n",
       "      <td>1.460322</td>\n",
       "      <td>0.091339</td>\n",
       "      <td>3.162278</td>\n",
       "      <td>{'clf__alpha': 3.1622776601683795}</td>\n",
       "      <td>0.995517</td>\n",
       "      <td>0.995961</td>\n",
       "      <td>0.996413</td>\n",
       "      <td>0.996971</td>\n",
       "      <td>...</td>\n",
       "      <td>0.000613</td>\n",
       "      <td>8</td>\n",
       "      <td>0.984579</td>\n",
       "      <td>0.982055</td>\n",
       "      <td>0.985318</td>\n",
       "      <td>0.986801</td>\n",
       "      <td>0.987839</td>\n",
       "      <td>0.985319</td>\n",
       "      <td>0.001987</td>\n",
       "      <td>8</td>\n",
       "    </tr>\n",
       "  </tbody>\n",
       "</table>\n",
       "<p>8 rows × 22 columns</p>\n",
       "</div>"
      ],
      "text/plain": [
       "   mean_fit_time  std_fit_time  mean_score_time  std_score_time  \\\n",
       "0       3.278318      0.219942         2.371848        0.348507   \n",
       "1       4.211076      0.185294         2.649143        0.100262   \n",
       "2       4.790254      0.431222         2.432700        0.187875   \n",
       "3       5.156910      0.560414         2.332056        0.335088   \n",
       "4       5.616891      0.126990         2.132576        0.207193   \n",
       "5       5.520371      0.193316         1.794696        0.255288   \n",
       "6       5.251322      0.175823         1.615208        0.101760   \n",
       "7       4.225534      0.435460         1.460322        0.091339   \n",
       "\n",
       "  param_clf__alpha                                 params  \\\n",
       "0            0.001                  {'clf__alpha': 0.001}   \n",
       "1         0.003162  {'clf__alpha': 0.0031622776601683794}   \n",
       "2             0.01                   {'clf__alpha': 0.01}   \n",
       "3         0.031623    {'clf__alpha': 0.03162277660168379}   \n",
       "4              0.1                    {'clf__alpha': 0.1}   \n",
       "5         0.316228    {'clf__alpha': 0.31622776601683794}   \n",
       "6              1.0                    {'clf__alpha': 1.0}   \n",
       "7         3.162278     {'clf__alpha': 3.1622776601683795}   \n",
       "\n",
       "   split0_test_roc_auc  split1_test_roc_auc  split2_test_roc_auc  \\\n",
       "0             0.995214             0.997271             0.996849   \n",
       "1             0.995209             0.997478             0.997071   \n",
       "2             0.995412             0.997379             0.997022   \n",
       "3             0.995847             0.997046             0.996962   \n",
       "4             0.995841             0.996547             0.996858   \n",
       "5             0.995901             0.996499             0.996829   \n",
       "6             0.995798             0.996272             0.996662   \n",
       "7             0.995517             0.995961             0.996413   \n",
       "\n",
       "   split3_test_roc_auc  ...  std_test_roc_auc  rank_test_roc_auc  \\\n",
       "0             0.997197  ...          0.000799                  6   \n",
       "1             0.997202  ...          0.000837                  5   \n",
       "2             0.997618  ...          0.000795                  2   \n",
       "3             0.997643  ...          0.000647                  1   \n",
       "4             0.997894  ...          0.000708                  3   \n",
       "5             0.997828  ...          0.000666                  4   \n",
       "6             0.997361  ...          0.000610                  7   \n",
       "7             0.996971  ...          0.000613                  8   \n",
       "\n",
       "   split0_test_accuracy  split1_test_accuracy  split2_test_accuracy  \\\n",
       "0              0.985320              0.985318              0.987543   \n",
       "1              0.986210              0.984873              0.987543   \n",
       "2              0.986358              0.985022              0.987543   \n",
       "3              0.986655              0.984428              0.987543   \n",
       "4              0.986803              0.984577              0.987394   \n",
       "5              0.986951              0.983687              0.987394   \n",
       "6              0.985913              0.983538              0.986505   \n",
       "7              0.984579              0.982055              0.985318   \n",
       "\n",
       "   split3_test_accuracy  split4_test_accuracy  mean_test_accuracy  \\\n",
       "0              0.988284              0.989026            0.987098   \n",
       "1              0.988284              0.989026            0.987187   \n",
       "2              0.988581              0.988877            0.987276   \n",
       "3              0.988877              0.988877            0.987276   \n",
       "4              0.988284              0.988877            0.987187   \n",
       "5              0.988877              0.988581            0.987098   \n",
       "6              0.988284              0.987988            0.986446   \n",
       "7              0.986801              0.987839            0.985319   \n",
       "\n",
       "   std_test_accuracy  rank_test_accuracy  \n",
       "0           0.001526                   5  \n",
       "1           0.001485                   3  \n",
       "2           0.001433                   1  \n",
       "3           0.001655                   2  \n",
       "4           0.001488                   4  \n",
       "5           0.001850                   6  \n",
       "6           0.001703                   7  \n",
       "7           0.001987                   8  \n",
       "\n",
       "[8 rows x 22 columns]"
      ]
     },
     "execution_count": 57,
     "metadata": {},
     "output_type": "execute_result"
    }
   ],
   "source": [
    "cv_results_df_bayes_sk_fine"
   ]
  },
  {
   "cell_type": "code",
   "execution_count": 58,
   "metadata": {},
   "outputs": [
    {
     "data": {
      "text/html": [
       "<div>\n",
       "<style scoped>\n",
       "    .dataframe tbody tr th:only-of-type {\n",
       "        vertical-align: middle;\n",
       "    }\n",
       "\n",
       "    .dataframe tbody tr th {\n",
       "        vertical-align: top;\n",
       "    }\n",
       "\n",
       "    .dataframe thead th {\n",
       "        text-align: right;\n",
       "    }\n",
       "</style>\n",
       "<table border=\"1\" class=\"dataframe\">\n",
       "  <thead>\n",
       "    <tr style=\"text-align: right;\">\n",
       "      <th></th>\n",
       "      <th>params</th>\n",
       "      <th>mean_test_accuracy</th>\n",
       "    </tr>\n",
       "    <tr>\n",
       "      <th>Sorted by AUC</th>\n",
       "      <th></th>\n",
       "      <th></th>\n",
       "    </tr>\n",
       "  </thead>\n",
       "  <tbody>\n",
       "    <tr>\n",
       "      <th>0.997017</th>\n",
       "      <td>{'clf__alpha': 0.03162277660168379}</td>\n",
       "      <td>0.987276</td>\n",
       "    </tr>\n",
       "    <tr>\n",
       "      <th>0.996957</th>\n",
       "      <td>{'clf__alpha': 0.01}</td>\n",
       "      <td>0.987276</td>\n",
       "    </tr>\n",
       "    <tr>\n",
       "      <th>0.996912</th>\n",
       "      <td>{'clf__alpha': 0.1}</td>\n",
       "      <td>0.987187</td>\n",
       "    </tr>\n",
       "    <tr>\n",
       "      <th>0.996880</th>\n",
       "      <td>{'clf__alpha': 0.31622776601683794}</td>\n",
       "      <td>0.987098</td>\n",
       "    </tr>\n",
       "    <tr>\n",
       "      <th>0.996862</th>\n",
       "      <td>{'clf__alpha': 0.0031622776601683794}</td>\n",
       "      <td>0.987187</td>\n",
       "    </tr>\n",
       "    <tr>\n",
       "      <th>0.996775</th>\n",
       "      <td>{'clf__alpha': 0.001}</td>\n",
       "      <td>0.987098</td>\n",
       "    </tr>\n",
       "    <tr>\n",
       "      <th>0.996689</th>\n",
       "      <td>{'clf__alpha': 1.0}</td>\n",
       "      <td>0.986446</td>\n",
       "    </tr>\n",
       "    <tr>\n",
       "      <th>0.996405</th>\n",
       "      <td>{'clf__alpha': 3.1622776601683795}</td>\n",
       "      <td>0.985319</td>\n",
       "    </tr>\n",
       "  </tbody>\n",
       "</table>\n",
       "</div>"
      ],
      "text/plain": [
       "                                              params  mean_test_accuracy\n",
       "Sorted by AUC                                                           \n",
       "0.997017         {'clf__alpha': 0.03162277660168379}            0.987276\n",
       "0.996957                        {'clf__alpha': 0.01}            0.987276\n",
       "0.996912                         {'clf__alpha': 0.1}            0.987187\n",
       "0.996880         {'clf__alpha': 0.31622776601683794}            0.987098\n",
       "0.996862       {'clf__alpha': 0.0031622776601683794}            0.987187\n",
       "0.996775                       {'clf__alpha': 0.001}            0.987098\n",
       "0.996689                         {'clf__alpha': 1.0}            0.986446\n",
       "0.996405          {'clf__alpha': 3.1622776601683795}            0.985319"
      ]
     },
     "execution_count": 58,
     "metadata": {},
     "output_type": "execute_result"
    }
   ],
   "source": [
    "cv_results_df_bayes_sk_fine.sort_values('mean_test_roc_auc',ascending=False).loc[:,['params','mean_test_roc_auc','mean_test_accuracy']].set_index('mean_test_roc_auc').rename_axis('Sorted by AUC')"
   ]
  },
  {
   "cell_type": "code",
   "execution_count": 59,
   "metadata": {},
   "outputs": [
    {
     "data": {
      "text/html": [
       "<div>\n",
       "<style scoped>\n",
       "    .dataframe tbody tr th:only-of-type {\n",
       "        vertical-align: middle;\n",
       "    }\n",
       "\n",
       "    .dataframe tbody tr th {\n",
       "        vertical-align: top;\n",
       "    }\n",
       "\n",
       "    .dataframe thead th {\n",
       "        text-align: right;\n",
       "    }\n",
       "</style>\n",
       "<table border=\"1\" class=\"dataframe\">\n",
       "  <thead>\n",
       "    <tr style=\"text-align: right;\">\n",
       "      <th></th>\n",
       "      <th>params</th>\n",
       "      <th>mean_test_roc_auc</th>\n",
       "    </tr>\n",
       "    <tr>\n",
       "      <th>Sorted by accuracy</th>\n",
       "      <th></th>\n",
       "      <th></th>\n",
       "    </tr>\n",
       "  </thead>\n",
       "  <tbody>\n",
       "    <tr>\n",
       "      <th>0.987276</th>\n",
       "      <td>{'clf__alpha': 0.01}</td>\n",
       "      <td>0.996957</td>\n",
       "    </tr>\n",
       "    <tr>\n",
       "      <th>0.987276</th>\n",
       "      <td>{'clf__alpha': 0.03162277660168379}</td>\n",
       "      <td>0.997017</td>\n",
       "    </tr>\n",
       "    <tr>\n",
       "      <th>0.987187</th>\n",
       "      <td>{'clf__alpha': 0.0031622776601683794}</td>\n",
       "      <td>0.996862</td>\n",
       "    </tr>\n",
       "    <tr>\n",
       "      <th>0.987187</th>\n",
       "      <td>{'clf__alpha': 0.1}</td>\n",
       "      <td>0.996912</td>\n",
       "    </tr>\n",
       "    <tr>\n",
       "      <th>0.987098</th>\n",
       "      <td>{'clf__alpha': 0.001}</td>\n",
       "      <td>0.996775</td>\n",
       "    </tr>\n",
       "    <tr>\n",
       "      <th>0.987098</th>\n",
       "      <td>{'clf__alpha': 0.31622776601683794}</td>\n",
       "      <td>0.996880</td>\n",
       "    </tr>\n",
       "    <tr>\n",
       "      <th>0.986446</th>\n",
       "      <td>{'clf__alpha': 1.0}</td>\n",
       "      <td>0.996689</td>\n",
       "    </tr>\n",
       "    <tr>\n",
       "      <th>0.985319</th>\n",
       "      <td>{'clf__alpha': 3.1622776601683795}</td>\n",
       "      <td>0.996405</td>\n",
       "    </tr>\n",
       "  </tbody>\n",
       "</table>\n",
       "</div>"
      ],
      "text/plain": [
       "                                                   params  mean_test_roc_auc\n",
       "Sorted by accuracy                                                          \n",
       "0.987276                             {'clf__alpha': 0.01}           0.996957\n",
       "0.987276              {'clf__alpha': 0.03162277660168379}           0.997017\n",
       "0.987187            {'clf__alpha': 0.0031622776601683794}           0.996862\n",
       "0.987187                              {'clf__alpha': 0.1}           0.996912\n",
       "0.987098                            {'clf__alpha': 0.001}           0.996775\n",
       "0.987098              {'clf__alpha': 0.31622776601683794}           0.996880\n",
       "0.986446                              {'clf__alpha': 1.0}           0.996689\n",
       "0.985319               {'clf__alpha': 3.1622776601683795}           0.996405"
      ]
     },
     "execution_count": 59,
     "metadata": {},
     "output_type": "execute_result"
    }
   ],
   "source": [
    "cv_results_df_bayes_sk_fine.sort_values('mean_test_accuracy',ascending=False).loc[:,['params','mean_test_roc_auc','mean_test_accuracy']].set_index('mean_test_accuracy').rename_axis('Sorted by accuracy')"
   ]
  },
  {
   "cell_type": "code",
   "execution_count": 60,
   "metadata": {},
   "outputs": [
    {
     "data": {
      "image/png": "[encoded data removed]",
      "text/plain": [
       "<Figure size 432x288 with 2 Axes>"
      ]
     },
     "metadata": {
      "needs_background": "light"
     },
     "output_type": "display_data"
    }
   ],
   "source": [
    "fig,ax=plt.subplots()\n",
    "ax.plot(cv_results_df_bayes_sk_fine['param_clf__alpha'],cv_results_df_bayes_sk_fine['mean_test_roc_auc'],'r')\n",
    "ax1=ax.twinx()\n",
    "ax1.plot(cv_results_df_bayes_sk_fine['param_clf__alpha'],cv_results_df_bayes_sk_fine['mean_test_accuracy'],'b')\n",
    "ax.set_ylabel('ROC_AUC')\n",
    "ax1.set_ylabel('Accuracy')\n",
    "ax.set_xlabel('Smoothing')\n",
    "ax.tick_params(axis='y', labelcolor='r')\n",
    "ax1.tick_params(axis='y', labelcolor='b')\n",
    "ax.set_xscale('log')"
   ]
  },
  {
   "cell_type": "markdown",
   "metadata": {},
   "source": [
    ">**The optimal parameter is chosen at `max_features=None` and smoothing `alpha=0.01` in the naive Bayes model.**"
   ]
  },
  {
   "cell_type": "code",
   "execution_count": 61,
   "metadata": {},
   "outputs": [
    {
     "name": "stdout",
     "output_type": "stream",
     "text": [
      "Best esimate of ROC_AUC: 0.9970\n",
      "Best esimate of accuracy: 0.9873\n"
     ]
    }
   ],
   "source": [
    "best_auc_bayes_sk,best_acc_bayes_sk=cv_results_df_bayes_sk_fine['mean_test_roc_auc'].iloc[2],cv_results_df_bayes_sk_fine['mean_test_accuracy'].iloc[2]\n",
    "print('Best esimate of ROC_AUC: {:.4f}'.format(best_auc_bayes_sk))\n",
    "print('Best esimate of accuracy: {:.4f}'.format(best_acc_bayes_sk))"
   ]
  },
  {
   "cell_type": "markdown",
   "metadata": {},
   "source": [
    "# SVM"
   ]
  },
  {
   "cell_type": "markdown",
   "metadata": {},
   "source": [
    "## Sklearn `SVC` and `LinearSVC`"
   ]
  },
  {
   "cell_type": "code",
   "execution_count": 62,
   "metadata": {},
   "outputs": [],
   "source": [
    "from sklearn.svm import SVC "
   ]
  },
  {
   "cell_type": "code",
   "execution_count": 63,
   "metadata": {},
   "outputs": [],
   "source": [
    "X_train,X_test,y_train,y_test=train_test_split(emails_clean,labels,test_size=0.33,random_state=42)"
   ]
  },
  {
   "cell_type": "code",
   "execution_count": 64,
   "metadata": {},
   "outputs": [],
   "source": [
    "cv,X_train_term,X_test_term=countvectorizer(X_train,X_test)"
   ]
  },
  {
   "cell_type": "code",
   "execution_count": 65,
   "metadata": {},
   "outputs": [],
   "source": [
    "svm=SVC(kernel='rbf',C=1,random_state=42,probability=True)"
   ]
  },
  {
   "cell_type": "code",
   "execution_count": 66,
   "metadata": {},
   "outputs": [
    {
     "data": {
      "text/plain": [
       "SVC(C=1, probability=True, random_state=42)"
      ]
     },
     "execution_count": 66,
     "metadata": {},
     "output_type": "execute_result"
    }
   ],
   "source": [
    "svm.fit(X_train_term,y_train)"
   ]
  },
  {
   "cell_type": "code",
   "execution_count": 67,
   "metadata": {},
   "outputs": [
    {
     "data": {
      "text/plain": [
       "0.954884515143345"
      ]
     },
     "execution_count": 67,
     "metadata": {},
     "output_type": "execute_result"
    }
   ],
   "source": [
    "svm.score(X_test_term,y_test)"
   ]
  },
  {
   "cell_type": "code",
   "execution_count": 68,
   "metadata": {},
   "outputs": [
    {
     "data": {
      "text/plain": [
       "0.954884515143345"
      ]
     },
     "execution_count": 68,
     "metadata": {},
     "output_type": "execute_result"
    }
   ],
   "source": [
    "svm.score(X_test_term,y_test)"
   ]
  },
  {
   "cell_type": "code",
   "execution_count": 69,
   "metadata": {},
   "outputs": [
    {
     "data": {
      "text/plain": [
       "array([[5061,  463],\n",
       "       [  39, 5564]])"
      ]
     },
     "execution_count": 69,
     "metadata": {},
     "output_type": "execute_result"
    }
   ],
   "source": [
    "sklearn.metrics.confusion_matrix(y_test,svm.predict(X_test_term),labels=[0,1])"
   ]
  },
  {
   "cell_type": "code",
   "execution_count": 70,
   "metadata": {},
   "outputs": [
    {
     "name": "stdout",
     "output_type": "stream",
     "text": [
      "              precision    recall  f1-score   support\n",
      "\n",
      "           0       0.99      0.92      0.95      5524\n",
      "           1       0.92      0.99      0.96      5603\n",
      "\n",
      "    accuracy                           0.95     11127\n",
      "   macro avg       0.96      0.95      0.95     11127\n",
      "weighted avg       0.96      0.95      0.95     11127\n",
      "\n"
     ]
    }
   ],
   "source": [
    "print(sklearn.metrics.classification_report(y_test,svm.predict(X_test_term)))"
   ]
  },
  {
   "cell_type": "code",
   "execution_count": 71,
   "metadata": {},
   "outputs": [],
   "source": [
    "FP_list_svm_sk,TP_list_svm_sk,threshold_list_svm_sk=sklearn.metrics.roc_curve(y_test,svm.predict_proba(X_test_term)[:,1])"
   ]
  },
  {
   "cell_type": "code",
   "execution_count": 72,
   "metadata": {},
   "outputs": [
    {
     "data": {
      "text/plain": [
       "Text(0.5, 1.0, 'AUC of ROC=0.99454')"
      ]
     },
     "execution_count": 72,
     "metadata": {},
     "output_type": "execute_result"
    },
    {
     "data": {
      "image/png": "[encoded data removed]",
      "text/plain": [
       "<Figure size 432x288 with 1 Axes>"
      ]
     },
     "metadata": {
      "needs_background": "light"
     },
     "output_type": "display_data"
    }
   ],
   "source": [
    "fig,ax=plt.subplots()\n",
    "ax.plot(FP_list_svm_sk,TP_list_svm_sk)\n",
    "ax.set_xlim([0,1])\n",
    "ax.set_ylim([0,1.03])\n",
    "ax.set_xlabel('False positive rate')\n",
    "ax.set_ylabel('True positive rate')\n",
    "ax.set_title('AUC of ROC={:.5f}'.format(np.diff(FP_list_svm_sk)@(TP_list_svm_sk[1:]+TP_list_svm_sk[:-1])/2))"
   ]
  },
  {
   "cell_type": "code",
   "execution_count": 73,
   "metadata": {},
   "outputs": [
    {
     "name": "stdout",
     "output_type": "stream",
     "text": [
      "AUC of ROC is 0.994542\n"
     ]
    }
   ],
   "source": [
    "print('AUC of ROC is {:f}'.format(sklearn.metrics.roc_auc_score(y_test,svm.predict_proba(X_test_term)[:,1])))"
   ]
  },
  {
   "cell_type": "markdown",
   "metadata": {},
   "source": [
    "### Cross validation to fine tune parameters"
   ]
  },
  {
   "cell_type": "markdown",
   "metadata": {},
   "source": [
    "#### Kernel selection"
   ]
  },
  {
   "cell_type": "code",
   "execution_count": 75,
   "metadata": {},
   "outputs": [],
   "source": [
    "kernel_option_svm_sk=['linear','rbf']\n",
    "C_option_svm_sk=[.5,1,2]"
   ]
  },
  {
   "cell_type": "code",
   "execution_count": 76,
   "metadata": {},
   "outputs": [],
   "source": [
    "pipeline_svm_sk=Pipeline([('cv',CountVectorizer(stop_words='english',max_df=0.5,min_df=2)),('svm',SVC())])\n",
    "parameters_pipeline_svm_sk={'svm__kernel':kernel_option_svm_sk,'svm__C':C_option_svm_sk}"
   ]
  },
  {
   "cell_type": "code",
   "execution_count": 77,
   "metadata": {},
   "outputs": [],
   "source": [
    "grid_search_svm_sk=GridSearchCV(pipeline_svm_sk,parameters_pipeline_svm_sk,n_jobs=-1,cv=k_fold,verbose=3,scoring=['roc_auc','accuracy'],refit=False)"
   ]
  },
  {
   "cell_type": "code",
   "execution_count": 78,
   "metadata": {},
   "outputs": [
    {
     "name": "stdout",
     "output_type": "stream",
     "text": [
      "Fitting 5 folds for each of 6 candidates, totalling 30 fits\n",
      "[CV 1/5] END svm__C=2, svm__kernel=linear; accuracy: (test=0.979) roc_auc: (test=0.995) total time= 1.1min\n",
      "[CV 2/5] END svm__C=1, svm__kernel=linear; accuracy: (test=0.982) roc_auc: (test=0.996) total time= 1.1min\n",
      "[CV 1/5] END svm__C=1, svm__kernel=linear; accuracy: (test=0.981) roc_auc: (test=0.996) total time= 1.1min\n",
      "[CV 5/5] END svm__C=2, svm__kernel=linear; accuracy: (test=0.982) roc_auc: (test=0.996) total time= 1.1min\n",
      "[CV 3/5] END svm__C=2, svm__kernel=linear; accuracy: (test=0.980) roc_auc: (test=0.995) total time= 1.1min\n",
      "[CV 5/5] END svm__C=1, svm__kernel=linear; accuracy: (test=0.983) roc_auc: (test=0.997) total time= 1.1min\n",
      "[CV 2/5] END svm__C=2, svm__kernel=linear; accuracy: (test=0.980) roc_auc: (test=0.996) total time= 1.1min\n",
      "[CV 3/5] END svm__C=1, svm__kernel=linear; accuracy: (test=0.982) roc_auc: (test=0.996) total time= 1.2min\n",
      "[CV 1/5] END svm__C=0.5, svm__kernel=linear; accuracy: (test=0.983) roc_auc: (test=0.996) total time= 1.2min\n",
      "[CV 4/5] END svm__C=2, svm__kernel=linear; accuracy: (test=0.980) roc_auc: (test=0.996) total time= 1.2min\n",
      "[CV 2/5] END svm__C=0.5, svm__kernel=linear; accuracy: (test=0.984) roc_auc: (test=0.996) total time= 1.2min\n",
      "[CV 3/5] END svm__C=0.5, svm__kernel=linear; accuracy: (test=0.983) roc_auc: (test=0.997) total time= 1.3min\n",
      "[CV 4/5] END svm__C=1, svm__kernel=linear; accuracy: (test=0.982) roc_auc: (test=0.997) total time= 1.3min\n",
      "[CV 4/5] END svm__C=0.5, svm__kernel=linear; accuracy: (test=0.985) roc_auc: (test=0.997) total time= 1.4min\n",
      "[CV 5/5] END svm__C=0.5, svm__kernel=linear; accuracy: (test=0.985) roc_auc: (test=0.997) total time= 1.5min\n",
      "[CV 3/5] END svm__C=2, svm__kernel=rbf; accuracy: (test=0.974) roc_auc: (test=0.998) total time= 2.7min\n",
      "[CV 1/5] END svm__C=2, svm__kernel=rbf; accuracy: (test=0.974) roc_auc: (test=0.997) total time= 2.7min\n",
      "[CV 5/5] END svm__C=2, svm__kernel=rbf; accuracy: (test=0.973) roc_auc: (test=0.998) total time= 3.0min\n",
      "[CV 5/5] END svm__C=1, svm__kernel=rbf; accuracy: (test=0.967) roc_auc: (test=0.997) total time= 3.1min\n",
      "[CV 2/5] END svm__C=2, svm__kernel=rbf; accuracy: (test=0.972) roc_auc: (test=0.997) total time= 3.1min\n",
      "[CV 1/5] END svm__C=1, svm__kernel=rbf; accuracy: (test=0.967) roc_auc: (test=0.997) total time= 3.2min\n",
      "[CV 2/5] END svm__C=1, svm__kernel=rbf; accuracy: (test=0.964) roc_auc: (test=0.997) total time= 3.2min\n",
      "[CV 4/5] END svm__C=2, svm__kernel=rbf; accuracy: (test=0.974) roc_auc: (test=0.998) total time= 3.2min\n",
      "[CV 3/5] END svm__C=1, svm__kernel=rbf; accuracy: (test=0.967) roc_auc: (test=0.997) total time= 3.2min\n",
      "[CV 4/5] END svm__C=1, svm__kernel=rbf; accuracy: (test=0.969) roc_auc: (test=0.997) total time= 3.2min\n",
      "[CV 2/5] END svm__C=0.5, svm__kernel=rbf; accuracy: (test=0.956) roc_auc: (test=0.995) total time= 3.4min\n",
      "[CV 3/5] END svm__C=0.5, svm__kernel=rbf; accuracy: (test=0.957) roc_auc: (test=0.996) total time= 3.5min\n",
      "[CV 1/5] END svm__C=0.5, svm__kernel=rbf; accuracy: (test=0.960) roc_auc: (test=0.996) total time= 3.5min\n",
      "[CV 5/5] END svm__C=0.5, svm__kernel=rbf; accuracy: (test=0.957) roc_auc: (test=0.996) total time= 3.5min\n",
      "[CV 4/5] END svm__C=0.5, svm__kernel=rbf; accuracy: (test=0.958) roc_auc: (test=0.996) total time= 3.5min\n"
     ]
    },
    {
     "data": {
      "text/plain": [
       "GridSearchCV(cv=StratifiedKFold(n_splits=5, random_state=42, shuffle=True),\n",
       "             estimator=Pipeline(steps=[('cv',\n",
       "                                        CountVectorizer(max_df=0.5, min_df=2,\n",
       "                                                        stop_words='english')),\n",
       "                                       ('svm', SVC())]),\n",
       "             n_jobs=-1,\n",
       "             param_grid={'svm__C': [0.5, 1, 2],\n",
       "                         'svm__kernel': ['linear', 'rbf']},\n",
       "             refit=False, scoring=['roc_auc', 'accuracy'], verbose=3)"
      ]
     },
     "execution_count": 78,
     "metadata": {},
     "output_type": "execute_result"
    }
   ],
   "source": [
    "grid_search_svm_sk.fit(emails_clean,labels)"
   ]
  },
  {
   "cell_type": "code",
   "execution_count": 79,
   "metadata": {},
   "outputs": [],
   "source": [
    "cv_results_df_svm_sk=pd.DataFrame(grid_search_svm_sk.cv_results_)"
   ]
  },
  {
   "cell_type": "code",
   "execution_count": 80,
   "metadata": {},
   "outputs": [
    {
     "data": {
      "text/html": [
       "<div>\n",
       "<style scoped>\n",
       "    .dataframe tbody tr th:only-of-type {\n",
       "        vertical-align: middle;\n",
       "    }\n",
       "\n",
       "    .dataframe tbody tr th {\n",
       "        vertical-align: top;\n",
       "    }\n",
       "\n",
       "    .dataframe thead th {\n",
       "        text-align: right;\n",
       "    }\n",
       "</style>\n",
       "<table border=\"1\" class=\"dataframe\">\n",
       "  <thead>\n",
       "    <tr style=\"text-align: right;\">\n",
       "      <th></th>\n",
       "      <th>params</th>\n",
       "      <th>mean_test_accuracy</th>\n",
       "    </tr>\n",
       "    <tr>\n",
       "      <th>Sorted by AUC</th>\n",
       "      <th></th>\n",
       "      <th></th>\n",
       "    </tr>\n",
       "  </thead>\n",
       "  <tbody>\n",
       "    <tr>\n",
       "      <th>0.997524</th>\n",
       "      <td>{'svm__C': 2, 'svm__kernel': 'rbf'}</td>\n",
       "      <td>0.973603</td>\n",
       "    </tr>\n",
       "    <tr>\n",
       "      <th>0.996979</th>\n",
       "      <td>{'svm__C': 1, 'svm__kernel': 'rbf'}</td>\n",
       "      <td>0.966841</td>\n",
       "    </tr>\n",
       "    <tr>\n",
       "      <th>0.996704</th>\n",
       "      <td>{'svm__C': 0.5, 'svm__kernel': 'linear'}</td>\n",
       "      <td>0.983865</td>\n",
       "    </tr>\n",
       "    <tr>\n",
       "      <th>0.996175</th>\n",
       "      <td>{'svm__C': 1, 'svm__kernel': 'linear'}</td>\n",
       "      <td>0.982145</td>\n",
       "    </tr>\n",
       "    <tr>\n",
       "      <th>0.996032</th>\n",
       "      <td>{'svm__C': 0.5, 'svm__kernel': 'rbf'}</td>\n",
       "      <td>0.957646</td>\n",
       "    </tr>\n",
       "    <tr>\n",
       "      <th>0.995794</th>\n",
       "      <td>{'svm__C': 2, 'svm__kernel': 'linear'}</td>\n",
       "      <td>0.980276</td>\n",
       "    </tr>\n",
       "  </tbody>\n",
       "</table>\n",
       "</div>"
      ],
      "text/plain": [
       "                                                 params  mean_test_accuracy\n",
       "Sorted by AUC                                                              \n",
       "0.997524            {'svm__C': 2, 'svm__kernel': 'rbf'}            0.973603\n",
       "0.996979            {'svm__C': 1, 'svm__kernel': 'rbf'}            0.966841\n",
       "0.996704       {'svm__C': 0.5, 'svm__kernel': 'linear'}            0.983865\n",
       "0.996175         {'svm__C': 1, 'svm__kernel': 'linear'}            0.982145\n",
       "0.996032          {'svm__C': 0.5, 'svm__kernel': 'rbf'}            0.957646\n",
       "0.995794         {'svm__C': 2, 'svm__kernel': 'linear'}            0.980276"
      ]
     },
     "execution_count": 80,
     "metadata": {},
     "output_type": "execute_result"
    }
   ],
   "source": [
    "cv_results_df_svm_sk.sort_values('mean_test_roc_auc',ascending=False).loc[:,['params','mean_test_roc_auc','mean_test_accuracy']].set_index('mean_test_roc_auc').rename_axis('Sorted by AUC')"
   ]
  },
  {
   "cell_type": "code",
   "execution_count": 81,
   "metadata": {},
   "outputs": [
    {
     "data": {
      "text/html": [
       "<div>\n",
       "<style scoped>\n",
       "    .dataframe tbody tr th:only-of-type {\n",
       "        vertical-align: middle;\n",
       "    }\n",
       "\n",
       "    .dataframe tbody tr th {\n",
       "        vertical-align: top;\n",
       "    }\n",
       "\n",
       "    .dataframe thead th {\n",
       "        text-align: right;\n",
       "    }\n",
       "</style>\n",
       "<table border=\"1\" class=\"dataframe\">\n",
       "  <thead>\n",
       "    <tr style=\"text-align: right;\">\n",
       "      <th></th>\n",
       "      <th>params</th>\n",
       "      <th>mean_test_roc_auc</th>\n",
       "    </tr>\n",
       "    <tr>\n",
       "      <th>Sorted by accuracy</th>\n",
       "      <th></th>\n",
       "      <th></th>\n",
       "    </tr>\n",
       "  </thead>\n",
       "  <tbody>\n",
       "    <tr>\n",
       "      <th>0.983865</th>\n",
       "      <td>{'svm__C': 0.5, 'svm__kernel': 'linear'}</td>\n",
       "      <td>0.996704</td>\n",
       "    </tr>\n",
       "    <tr>\n",
       "      <th>0.982145</th>\n",
       "      <td>{'svm__C': 1, 'svm__kernel': 'linear'}</td>\n",
       "      <td>0.996175</td>\n",
       "    </tr>\n",
       "    <tr>\n",
       "      <th>0.980276</th>\n",
       "      <td>{'svm__C': 2, 'svm__kernel': 'linear'}</td>\n",
       "      <td>0.995794</td>\n",
       "    </tr>\n",
       "    <tr>\n",
       "      <th>0.973603</th>\n",
       "      <td>{'svm__C': 2, 'svm__kernel': 'rbf'}</td>\n",
       "      <td>0.997524</td>\n",
       "    </tr>\n",
       "    <tr>\n",
       "      <th>0.966841</th>\n",
       "      <td>{'svm__C': 1, 'svm__kernel': 'rbf'}</td>\n",
       "      <td>0.996979</td>\n",
       "    </tr>\n",
       "    <tr>\n",
       "      <th>0.957646</th>\n",
       "      <td>{'svm__C': 0.5, 'svm__kernel': 'rbf'}</td>\n",
       "      <td>0.996032</td>\n",
       "    </tr>\n",
       "  </tbody>\n",
       "</table>\n",
       "</div>"
      ],
      "text/plain": [
       "                                                      params  \\\n",
       "Sorted by accuracy                                             \n",
       "0.983865            {'svm__C': 0.5, 'svm__kernel': 'linear'}   \n",
       "0.982145              {'svm__C': 1, 'svm__kernel': 'linear'}   \n",
       "0.980276              {'svm__C': 2, 'svm__kernel': 'linear'}   \n",
       "0.973603                 {'svm__C': 2, 'svm__kernel': 'rbf'}   \n",
       "0.966841                 {'svm__C': 1, 'svm__kernel': 'rbf'}   \n",
       "0.957646               {'svm__C': 0.5, 'svm__kernel': 'rbf'}   \n",
       "\n",
       "                    mean_test_roc_auc  \n",
       "Sorted by accuracy                     \n",
       "0.983865                     0.996704  \n",
       "0.982145                     0.996175  \n",
       "0.980276                     0.995794  \n",
       "0.973603                     0.997524  \n",
       "0.966841                     0.996979  \n",
       "0.957646                     0.996032  "
      ]
     },
     "execution_count": 81,
     "metadata": {},
     "output_type": "execute_result"
    }
   ],
   "source": [
    "cv_results_df_svm_sk.sort_values('mean_test_accuracy',ascending=False).loc[:,['params','mean_test_roc_auc','mean_test_accuracy']].set_index('mean_test_accuracy').rename_axis('Sorted by accuracy')"
   ]
  },
  {
   "cell_type": "markdown",
   "metadata": {},
   "source": [
    ">**The linear kernel has better performance over Gaussian kernel because it has a signficant higher average accuracy while with a similar AUC. Furthermore, we can change `SVC` to `LinearSVC` for better performance.**"
   ]
  },
  {
   "cell_type": "markdown",
   "metadata": {},
   "source": [
    "#### Coarse search: `max_features`, regularization and `C`"
   ]
  },
  {
   "cell_type": "code",
   "execution_count": 82,
   "metadata": {},
   "outputs": [],
   "source": [
    "from sklearn.svm import LinearSVC"
   ]
  },
  {
   "cell_type": "code",
   "execution_count": 83,
   "metadata": {},
   "outputs": [],
   "source": [
    "max_features_option_svm_sk_coarse=[500,2000,None]\n",
    "C_option_svm_sk_coarse=[.5,1,2]\n",
    "penalty_option_svm_sk_coarse=['l1','l2']\n",
    "pipeline_svm_sk_coarse=Pipeline([('cv',CountVectorizer(stop_words='english',max_df=0.5,min_df=2)),('svm',LinearSVC(max_iter=100000,loss='squared_hinge',dual=False))])\n",
    "parameters_pipeline_svm_sk_coarse={'cv__max_features':max_features_option_svm_sk_coarse,'svm__C':C_option_svm_sk,'svm__penalty':penalty_option_svm_sk_coarse}"
   ]
  },
  {
   "cell_type": "code",
   "execution_count": 84,
   "metadata": {},
   "outputs": [],
   "source": [
    "grid_search_svm_sk_coarse=GridSearchCV(pipeline_svm_sk_coarse,parameters_pipeline_svm_sk_coarse,n_jobs=-1,cv=k_fold,verbose=3,scoring=['roc_auc','accuracy'],refit=False)"
   ]
  },
  {
   "cell_type": "code",
   "execution_count": 85,
   "metadata": {},
   "outputs": [
    {
     "name": "stdout",
     "output_type": "stream",
     "text": [
      "Fitting 5 folds for each of 18 candidates, totalling 90 fits\n",
      "[CV 3/5] END cv__max_features=500, svm__C=0.5, svm__penalty=l2; accuracy: (test=0.968) roc_auc: (test=0.993) total time=   8.8s\n",
      "[CV 4/5] END cv__max_features=500, svm__C=0.5, svm__penalty=l2; accuracy: (test=0.970) roc_auc: (test=0.994) total time=   9.5s\n",
      "[CV 1/5] END cv__max_features=500, svm__C=0.5, svm__penalty=l1; accuracy: (test=0.969) roc_auc: (test=0.993) total time=  10.8s\n",
      "[CV 3/5] END cv__max_features=500, svm__C=0.5, svm__penalty=l1; accuracy: (test=0.968) roc_auc: (test=0.993) total time=  12.4s\n",
      "[CV 5/5] END cv__max_features=500, svm__C=1, svm__penalty=l2; accuracy: (test=0.969) roc_auc: (test=0.994) total time=  10.2s\n",
      "[CV 5/5] END cv__max_features=500, svm__C=0.5, svm__penalty=l2; accuracy: (test=0.970) roc_auc: (test=0.994) total time=  11.8s\n",
      "[CV 4/5] END cv__max_features=500, svm__C=0.5, svm__penalty=l1; accuracy: (test=0.968) roc_auc: (test=0.994) total time=  12.8s\n",
      "[CV 2/5] END cv__max_features=500, svm__C=0.5, svm__penalty=l1; accuracy: (test=0.968) roc_auc: (test=0.993) total time=  13.2s\n",
      "[CV 5/5] END cv__max_features=500, svm__C=0.5, svm__penalty=l1; accuracy: (test=0.970) roc_auc: (test=0.994) total time=  13.0s\n",
      "[CV 1/5] END cv__max_features=500, svm__C=0.5, svm__penalty=l2; accuracy: (test=0.969) roc_auc: (test=0.993) total time=  12.9s\n",
      "[CV 4/5] END cv__max_features=500, svm__C=1, svm__penalty=l2; accuracy: (test=0.970) roc_auc: (test=0.994) total time=  12.2s\n",
      "[CV 1/5] END cv__max_features=500, svm__C=1, svm__penalty=l1; accuracy: (test=0.969) roc_auc: (test=0.993) total time=  13.7s\n",
      "[CV 2/5] END cv__max_features=500, svm__C=1, svm__penalty=l2; accuracy: (test=0.968) roc_auc: (test=0.993) total time=  13.1s\n",
      "[CV 2/5] END cv__max_features=500, svm__C=1, svm__penalty=l1; accuracy: (test=0.968) roc_auc: (test=0.993) total time=  14.4s\n",
      "[CV 4/5] END cv__max_features=500, svm__C=1, svm__penalty=l1; accuracy: (test=0.969) roc_auc: (test=0.994) total time=  14.2s\n",
      "[CV 3/5] END cv__max_features=500, svm__C=1, svm__penalty=l1; accuracy: (test=0.968) roc_auc: (test=0.993) total time=  14.4s\n",
      "[CV 1/5] END cv__max_features=500, svm__C=2, svm__penalty=l2; accuracy: (test=0.969) roc_auc: (test=0.993) total time=  13.1s\n",
      "[CV 2/5] END cv__max_features=500, svm__C=0.5, svm__penalty=l2; accuracy: (test=0.968) roc_auc: (test=0.993) total time=  16.2s\n",
      "[CV 5/5] END cv__max_features=500, svm__C=1, svm__penalty=l1; accuracy: (test=0.970) roc_auc: (test=0.994) total time=  15.4s\n",
      "[CV 3/5] END cv__max_features=500, svm__C=1, svm__penalty=l2; accuracy: (test=0.967) roc_auc: (test=0.993) total time=  15.0s\n",
      "[CV 5/5] END cv__max_features=500, svm__C=2, svm__penalty=l2; accuracy: (test=0.970) roc_auc: (test=0.994) total time=  13.1s\n",
      "[CV 3/5] END cv__max_features=500, svm__C=2, svm__penalty=l2; accuracy: (test=0.967) roc_auc: (test=0.993) total time=  13.6s\n",
      "[CV 4/5] END cv__max_features=500, svm__C=2, svm__penalty=l1; accuracy: (test=0.970) roc_auc: (test=0.994) total time=  14.6s\n",
      "[CV 1/5] END cv__max_features=500, svm__C=2, svm__penalty=l1; accuracy: (test=0.969) roc_auc: (test=0.993) total time=  15.1s\n",
      "[CV 4/5] END cv__max_features=500, svm__C=2, svm__penalty=l2; accuracy: (test=0.970) roc_auc: (test=0.994) total time=  15.2s\n",
      "[CV 2/5] END cv__max_features=2000, svm__C=0.5, svm__penalty=l1; accuracy: (test=0.979) roc_auc: (test=0.996) total time=  13.9s\n",
      "[CV 3/5] END cv__max_features=500, svm__C=2, svm__penalty=l1; accuracy: (test=0.968) roc_auc: (test=0.993) total time=  17.1s\n",
      "[CV 1/5] END cv__max_features=500, svm__C=1, svm__penalty=l2; accuracy: (test=0.969) roc_auc: (test=0.993) total time=  18.6s\n",
      "[CV 1/5] END cv__max_features=2000, svm__C=0.5, svm__penalty=l1; accuracy: (test=0.982) roc_auc: (test=0.996) total time=  15.7s\n",
      "[CV 5/5] END cv__max_features=500, svm__C=2, svm__penalty=l1; accuracy: (test=0.970) roc_auc: (test=0.994) total time=  17.6s\n",
      "[CV 2/5] END cv__max_features=500, svm__C=2, svm__penalty=l1; accuracy: (test=0.967) roc_auc: (test=0.993) total time=  18.4s\n",
      "[CV 3/5] END cv__max_features=2000, svm__C=0.5, svm__penalty=l1; accuracy: (test=0.981) roc_auc: (test=0.996) total time=  11.7s\n",
      "[CV 2/5] END cv__max_features=500, svm__C=2, svm__penalty=l2; accuracy: (test=0.967) roc_auc: (test=0.993) total time=  18.8s\n",
      "[CV 5/5] END cv__max_features=2000, svm__C=0.5, svm__penalty=l1; accuracy: (test=0.982) roc_auc: (test=0.997) total time=  12.5s\n",
      "[CV 4/5] END cv__max_features=2000, svm__C=0.5, svm__penalty=l1; accuracy: (test=0.983) roc_auc: (test=0.997) total time=  13.6s\n",
      "[CV 2/5] END cv__max_features=2000, svm__C=1, svm__penalty=l1; accuracy: (test=0.979) roc_auc: (test=0.995) total time=  14.0s\n",
      "[CV 1/5] END cv__max_features=2000, svm__C=1, svm__penalty=l1; accuracy: (test=0.980) roc_auc: (test=0.996) total time=  15.4s\n",
      "[CV 3/5] END cv__max_features=2000, svm__C=1, svm__penalty=l1; accuracy: (test=0.979) roc_auc: (test=0.995) total time=  14.3s\n",
      "[CV 4/5] END cv__max_features=2000, svm__C=1, svm__penalty=l1; accuracy: (test=0.983) roc_auc: (test=0.997) total time=  16.8s\n",
      "[CV 5/5] END cv__max_features=2000, svm__C=1, svm__penalty=l1; accuracy: (test=0.982) roc_auc: (test=0.996) total time=  16.7s\n",
      "[CV 2/5] END cv__max_features=2000, svm__C=0.5, svm__penalty=l2; accuracy: (test=0.979) roc_auc: (test=0.996) total time=  21.0s\n",
      "[CV 2/5] END cv__max_features=2000, svm__C=2, svm__penalty=l2; accuracy: (test=0.979) roc_auc: (test=0.995) total time=  21.3s\n",
      "[CV 2/5] END cv__max_features=2000, svm__C=1, svm__penalty=l2; accuracy: (test=0.979) roc_auc: (test=0.995) total time=  25.6s\n",
      "[CV 2/5] END cv__max_features=None, svm__C=0.5, svm__penalty=l1; accuracy: (test=0.981) roc_auc: (test=0.996) total time=  21.9s\n",
      "[CV 2/5] END cv__max_features=2000, svm__C=2, svm__penalty=l1; accuracy: (test=0.978) roc_auc: (test=0.995) total time=  25.6s\n",
      "[CV 5/5] END cv__max_features=2000, svm__C=2, svm__penalty=l1; accuracy: (test=0.981) roc_auc: (test=0.996) total time=  26.5s\n",
      "[CV 1/5] END cv__max_features=2000, svm__C=2, svm__penalty=l1; accuracy: (test=0.977) roc_auc: (test=0.995) total time=  27.7s\n",
      "[CV 3/5] END cv__max_features=2000, svm__C=2, svm__penalty=l1; accuracy: (test=0.978) roc_auc: (test=0.995) total time=  28.0s\n",
      "[CV 3/5] END cv__max_features=None, svm__C=0.5, svm__penalty=l1; accuracy: (test=0.984) roc_auc: (test=0.997) total time=  27.0s\n",
      "[CV 2/5] END cv__max_features=None, svm__C=0.5, svm__penalty=l2; accuracy: (test=0.985) roc_auc: (test=0.997) total time=  24.7s\n",
      "[CV 4/5] END cv__max_features=2000, svm__C=1, svm__penalty=l2; accuracy: (test=0.984) roc_auc: (test=0.996) total time=  34.8s\n",
      "[CV 4/5] END cv__max_features=2000, svm__C=2, svm__penalty=l1; accuracy: (test=0.981) roc_auc: (test=0.996) total time=  34.6s\n",
      "[CV 5/5] END cv__max_features=None, svm__C=0.5, svm__penalty=l1; accuracy: (test=0.984) roc_auc: (test=0.997) total time=  30.5s\n",
      "[CV 4/5] END cv__max_features=2000, svm__C=0.5, svm__penalty=l2; accuracy: (test=0.985) roc_auc: (test=0.997) total time=  41.6s\n",
      "[CV 4/5] END cv__max_features=None, svm__C=0.5, svm__penalty=l1; accuracy: (test=0.986) roc_auc: (test=0.997) total time=  36.1s\n",
      "[CV 1/5] END cv__max_features=None, svm__C=0.5, svm__penalty=l1; accuracy: (test=0.983) roc_auc: (test=0.996) total time=  40.4s\n",
      "[CV 2/5] END cv__max_features=None, svm__C=1, svm__penalty=l1; accuracy: (test=0.981) roc_auc: (test=0.996) total time=  29.1s\n",
      "[CV 3/5] END cv__max_features=2000, svm__C=1, svm__penalty=l2; accuracy: (test=0.982) roc_auc: (test=0.995) total time=  48.6s\n",
      "[CV 3/5] END cv__max_features=2000, svm__C=2, svm__penalty=l2; accuracy: (test=0.981) roc_auc: (test=0.995) total time=  45.4s\n",
      "[CV 2/5] END cv__max_features=None, svm__C=1, svm__penalty=l2; accuracy: (test=0.985) roc_auc: (test=0.997) total time=  27.2s\n",
      "[CV 3/5] END cv__max_features=None, svm__C=1, svm__penalty=l1; accuracy: (test=0.982) roc_auc: (test=0.997) total time=  38.2s\n",
      "[CV 3/5] END cv__max_features=2000, svm__C=0.5, svm__penalty=l2; accuracy: (test=0.983) roc_auc: (test=0.996) total time= 1.0min\n",
      "[CV 1/5] END cv__max_features=None, svm__C=1, svm__penalty=l1; accuracy: (test=0.983) roc_auc: (test=0.996) total time=  43.6s\n",
      "[CV 4/5] END cv__max_features=None, svm__C=1, svm__penalty=l1; accuracy: (test=0.984) roc_auc: (test=0.997) total time=  36.5s\n",
      "[CV 2/5] END cv__max_features=None, svm__C=2, svm__penalty=l2; accuracy: (test=0.985) roc_auc: (test=0.997) total time=  20.9s\n",
      "[CV 4/5] END cv__max_features=2000, svm__C=2, svm__penalty=l2; accuracy: (test=0.983) roc_auc: (test=0.996) total time=  59.7s\n",
      "[CV 5/5] END cv__max_features=None, svm__C=1, svm__penalty=l1; accuracy: (test=0.984) roc_auc: (test=0.997) total time=  39.8s\n",
      "[CV 2/5] END cv__max_features=None, svm__C=2, svm__penalty=l1; accuracy: (test=0.981) roc_auc: (test=0.996) total time=  33.7s\n",
      "[CV 3/5] END cv__max_features=None, svm__C=0.5, svm__penalty=l2; accuracy: (test=0.985) roc_auc: (test=0.997) total time=  56.0s\n",
      "[CV 1/5] END cv__max_features=None, svm__C=2, svm__penalty=l1; accuracy: (test=0.982) roc_auc: (test=0.996) total time=  37.4s\n",
      "[CV 5/5] END cv__max_features=None, svm__C=2, svm__penalty=l1; accuracy: (test=0.983) roc_auc: (test=0.997) total time=  36.0s\n",
      "[CV 3/5] END cv__max_features=None, svm__C=2, svm__penalty=l1; accuracy: (test=0.983) roc_auc: (test=0.996) total time=  41.4s\n",
      "[CV 4/5] END cv__max_features=None, svm__C=2, svm__penalty=l1; accuracy: (test=0.983) roc_auc: (test=0.997) total time=  41.0s\n",
      "[CV 3/5] END cv__max_features=None, svm__C=1, svm__penalty=l2; accuracy: (test=0.986) roc_auc: (test=0.997) total time=  55.3s\n",
      "[CV 3/5] END cv__max_features=None, svm__C=2, svm__penalty=l2; accuracy: (test=0.986) roc_auc: (test=0.997) total time=  47.3s\n",
      "[CV 1/5] END cv__max_features=None, svm__C=1, svm__penalty=l2; accuracy: (test=0.984) roc_auc: (test=0.996) total time= 1.1min\n",
      "[CV 4/5] END cv__max_features=None, svm__C=0.5, svm__penalty=l2; accuracy: (test=0.987) roc_auc: (test=0.998) total time= 1.4min\n",
      "[CV 4/5] END cv__max_features=None, svm__C=1, svm__penalty=l2; accuracy: (test=0.987) roc_auc: (test=0.997) total time= 1.2min\n",
      "[CV 4/5] END cv__max_features=None, svm__C=2, svm__penalty=l2; accuracy: (test=0.986) roc_auc: (test=0.997) total time= 1.1min\n",
      "[CV 1/5] END cv__max_features=2000, svm__C=0.5, svm__penalty=l2; accuracy: (test=0.983) roc_auc: (test=0.996) total time= 2.1min\n",
      "[CV 5/5] END cv__max_features=2000, svm__C=0.5, svm__penalty=l2; accuracy: (test=0.983) roc_auc: (test=0.997) total time= 2.1min\n",
      "[CV 1/5] END cv__max_features=None, svm__C=2, svm__penalty=l2; accuracy: (test=0.985) roc_auc: (test=0.996) total time= 1.4min\n",
      "[CV 5/5] END cv__max_features=2000, svm__C=1, svm__penalty=l2; accuracy: (test=0.982) roc_auc: (test=0.997) total time= 2.2min\n",
      "[CV 1/5] END cv__max_features=None, svm__C=0.5, svm__penalty=l2; accuracy: (test=0.985) roc_auc: (test=0.996) total time= 2.4min\n",
      "[CV 5/5] END cv__max_features=None, svm__C=1, svm__penalty=l2; accuracy: (test=0.985) roc_auc: (test=0.997) total time= 2.0min\n",
      "[CV 5/5] END cv__max_features=None, svm__C=0.5, svm__penalty=l2; accuracy: (test=0.986) roc_auc: (test=0.998) total time= 2.6min\n",
      "[CV 1/5] END cv__max_features=2000, svm__C=1, svm__penalty=l2; accuracy: (test=0.982) roc_auc: (test=0.996) total time= 2.8min\n",
      "[CV 5/5] END cv__max_features=None, svm__C=2, svm__penalty=l2; accuracy: (test=0.985) roc_auc: (test=0.997) total time= 2.3min\n",
      "[CV 1/5] END cv__max_features=2000, svm__C=2, svm__penalty=l2; accuracy: (test=0.981) roc_auc: (test=0.995) total time= 3.4min\n",
      "[CV 5/5] END cv__max_features=2000, svm__C=2, svm__penalty=l2; accuracy: (test=0.982) roc_auc: (test=0.996) total time= 3.6min\n"
     ]
    },
    {
     "data": {
      "text/plain": [
       "GridSearchCV(cv=StratifiedKFold(n_splits=5, random_state=42, shuffle=True),\n",
       "             estimator=Pipeline(steps=[('cv',\n",
       "                                        CountVectorizer(max_df=0.5, min_df=2,\n",
       "                                                        stop_words='english')),\n",
       "                                       ('svm',\n",
       "                                        LinearSVC(dual=False,\n",
       "                                                  max_iter=100000))]),\n",
       "             n_jobs=-1,\n",
       "             param_grid={'cv__max_features': [500, 2000, None],\n",
       "                         'svm__C': [0.5, 1, 2], 'svm__penalty': ['l1', 'l2']},\n",
       "             refit=False, scoring=['roc_auc', 'accuracy'], verbose=3)"
      ]
     },
     "execution_count": 85,
     "metadata": {},
     "output_type": "execute_result"
    }
   ],
   "source": [
    "grid_search_svm_sk_coarse.fit(emails_clean,labels)"
   ]
  },
  {
   "cell_type": "code",
   "execution_count": 86,
   "metadata": {},
   "outputs": [],
   "source": [
    "cv_results_df_svm_sk_coarse=pd.DataFrame(grid_search_svm_sk_coarse.cv_results_)"
   ]
  },
  {
   "cell_type": "code",
   "execution_count": 87,
   "metadata": {},
   "outputs": [
    {
     "data": {
      "text/html": [
       "<div>\n",
       "<style scoped>\n",
       "    .dataframe tbody tr th:only-of-type {\n",
       "        vertical-align: middle;\n",
       "    }\n",
       "\n",
       "    .dataframe tbody tr th {\n",
       "        vertical-align: top;\n",
       "    }\n",
       "\n",
       "    .dataframe thead th {\n",
       "        text-align: right;\n",
       "    }\n",
       "</style>\n",
       "<table border=\"1\" class=\"dataframe\">\n",
       "  <thead>\n",
       "    <tr style=\"text-align: right;\">\n",
       "      <th></th>\n",
       "      <th>param_cv__max_features</th>\n",
       "      <th>param_svm__C</th>\n",
       "      <th>param_svm__penalty</th>\n",
       "      <th>mean_test_accuracy</th>\n",
       "    </tr>\n",
       "    <tr>\n",
       "      <th>Sorted by AUC</th>\n",
       "      <th></th>\n",
       "      <th></th>\n",
       "      <th></th>\n",
       "      <th></th>\n",
       "    </tr>\n",
       "  </thead>\n",
       "  <tbody>\n",
       "    <tr>\n",
       "      <th>0.997123</th>\n",
       "      <td>None</td>\n",
       "      <td>0.5</td>\n",
       "      <td>l2</td>\n",
       "      <td>0.985971</td>\n",
       "    </tr>\n",
       "    <tr>\n",
       "      <th>0.996995</th>\n",
       "      <td>None</td>\n",
       "      <td>1</td>\n",
       "      <td>l2</td>\n",
       "      <td>0.985408</td>\n",
       "    </tr>\n",
       "    <tr>\n",
       "      <th>0.996922</th>\n",
       "      <td>None</td>\n",
       "      <td>0.5</td>\n",
       "      <td>l1</td>\n",
       "      <td>0.983658</td>\n",
       "    </tr>\n",
       "    <tr>\n",
       "      <th>0.996875</th>\n",
       "      <td>None</td>\n",
       "      <td>2</td>\n",
       "      <td>l2</td>\n",
       "      <td>0.985408</td>\n",
       "    </tr>\n",
       "    <tr>\n",
       "      <th>0.996644</th>\n",
       "      <td>None</td>\n",
       "      <td>1</td>\n",
       "      <td>l1</td>\n",
       "      <td>0.982827</td>\n",
       "    </tr>\n",
       "    <tr>\n",
       "      <th>0.996486</th>\n",
       "      <td>2000</td>\n",
       "      <td>0.5</td>\n",
       "      <td>l1</td>\n",
       "      <td>0.981492</td>\n",
       "    </tr>\n",
       "    <tr>\n",
       "      <th>0.996451</th>\n",
       "      <td>None</td>\n",
       "      <td>2</td>\n",
       "      <td>l1</td>\n",
       "      <td>0.982323</td>\n",
       "    </tr>\n",
       "    <tr>\n",
       "      <th>0.996226</th>\n",
       "      <td>2000</td>\n",
       "      <td>0.5</td>\n",
       "      <td>l2</td>\n",
       "      <td>0.982501</td>\n",
       "    </tr>\n",
       "    <tr>\n",
       "      <th>0.995972</th>\n",
       "      <td>2000</td>\n",
       "      <td>1</td>\n",
       "      <td>l1</td>\n",
       "      <td>0.980573</td>\n",
       "    </tr>\n",
       "    <tr>\n",
       "      <th>0.995918</th>\n",
       "      <td>2000</td>\n",
       "      <td>1</td>\n",
       "      <td>l2</td>\n",
       "      <td>0.981908</td>\n",
       "    </tr>\n",
       "    <tr>\n",
       "      <th>0.995684</th>\n",
       "      <td>2000</td>\n",
       "      <td>2</td>\n",
       "      <td>l2</td>\n",
       "      <td>0.981226</td>\n",
       "    </tr>\n",
       "    <tr>\n",
       "      <th>0.995395</th>\n",
       "      <td>2000</td>\n",
       "      <td>2</td>\n",
       "      <td>l1</td>\n",
       "      <td>0.979001</td>\n",
       "    </tr>\n",
       "    <tr>\n",
       "      <th>0.993556</th>\n",
       "      <td>500</td>\n",
       "      <td>0.5</td>\n",
       "      <td>l1</td>\n",
       "      <td>0.968680</td>\n",
       "    </tr>\n",
       "    <tr>\n",
       "      <th>0.993496</th>\n",
       "      <td>500</td>\n",
       "      <td>1</td>\n",
       "      <td>l1</td>\n",
       "      <td>0.968709</td>\n",
       "    </tr>\n",
       "    <tr>\n",
       "      <th>0.993454</th>\n",
       "      <td>500</td>\n",
       "      <td>2</td>\n",
       "      <td>l1</td>\n",
       "      <td>0.968798</td>\n",
       "    </tr>\n",
       "    <tr>\n",
       "      <th>0.993440</th>\n",
       "      <td>500</td>\n",
       "      <td>1</td>\n",
       "      <td>l2</td>\n",
       "      <td>0.968709</td>\n",
       "    </tr>\n",
       "    <tr>\n",
       "      <th>0.993426</th>\n",
       "      <td>500</td>\n",
       "      <td>2</td>\n",
       "      <td>l2</td>\n",
       "      <td>0.968650</td>\n",
       "    </tr>\n",
       "    <tr>\n",
       "      <th>0.993424</th>\n",
       "      <td>500</td>\n",
       "      <td>0.5</td>\n",
       "      <td>l2</td>\n",
       "      <td>0.968828</td>\n",
       "    </tr>\n",
       "  </tbody>\n",
       "</table>\n",
       "</div>"
      ],
      "text/plain": [
       "              param_cv__max_features param_svm__C param_svm__penalty  \\\n",
       "Sorted by AUC                                                          \n",
       "0.997123                        None          0.5                 l2   \n",
       "0.996995                        None            1                 l2   \n",
       "0.996922                        None          0.5                 l1   \n",
       "0.996875                        None            2                 l2   \n",
       "0.996644                        None            1                 l1   \n",
       "0.996486                        2000          0.5                 l1   \n",
       "0.996451                        None            2                 l1   \n",
       "0.996226                        2000          0.5                 l2   \n",
       "0.995972                        2000            1                 l1   \n",
       "0.995918                        2000            1                 l2   \n",
       "0.995684                        2000            2                 l2   \n",
       "0.995395                        2000            2                 l1   \n",
       "0.993556                         500          0.5                 l1   \n",
       "0.993496                         500            1                 l1   \n",
       "0.993454                         500            2                 l1   \n",
       "0.993440                         500            1                 l2   \n",
       "0.993426                         500            2                 l2   \n",
       "0.993424                         500          0.5                 l2   \n",
       "\n",
       "               mean_test_accuracy  \n",
       "Sorted by AUC                      \n",
       "0.997123                 0.985971  \n",
       "0.996995                 0.985408  \n",
       "0.996922                 0.983658  \n",
       "0.996875                 0.985408  \n",
       "0.996644                 0.982827  \n",
       "0.996486                 0.981492  \n",
       "0.996451                 0.982323  \n",
       "0.996226                 0.982501  \n",
       "0.995972                 0.980573  \n",
       "0.995918                 0.981908  \n",
       "0.995684                 0.981226  \n",
       "0.995395                 0.979001  \n",
       "0.993556                 0.968680  \n",
       "0.993496                 0.968709  \n",
       "0.993454                 0.968798  \n",
       "0.993440                 0.968709  \n",
       "0.993426                 0.968650  \n",
       "0.993424                 0.968828  "
      ]
     },
     "execution_count": 87,
     "metadata": {},
     "output_type": "execute_result"
    }
   ],
   "source": [
    "cv_results_df_svm_sk_coarse.sort_values('mean_test_roc_auc',ascending=False).loc[:,['param_cv__max_features', 'param_svm__C', 'param_svm__penalty','mean_test_roc_auc','mean_test_accuracy']].set_index('mean_test_roc_auc').rename_axis('Sorted by AUC')"
   ]
  },
  {
   "cell_type": "code",
   "execution_count": 88,
   "metadata": {},
   "outputs": [
    {
     "data": {
      "text/html": [
       "<div>\n",
       "<style scoped>\n",
       "    .dataframe tbody tr th:only-of-type {\n",
       "        vertical-align: middle;\n",
       "    }\n",
       "\n",
       "    .dataframe tbody tr th {\n",
       "        vertical-align: top;\n",
       "    }\n",
       "\n",
       "    .dataframe thead th {\n",
       "        text-align: right;\n",
       "    }\n",
       "</style>\n",
       "<table border=\"1\" class=\"dataframe\">\n",
       "  <thead>\n",
       "    <tr style=\"text-align: right;\">\n",
       "      <th></th>\n",
       "      <th>param_cv__max_features</th>\n",
       "      <th>param_svm__C</th>\n",
       "      <th>param_svm__penalty</th>\n",
       "      <th>mean_test_roc_auc</th>\n",
       "    </tr>\n",
       "    <tr>\n",
       "      <th>Sorted by accuracy</th>\n",
       "      <th></th>\n",
       "      <th></th>\n",
       "      <th></th>\n",
       "      <th></th>\n",
       "    </tr>\n",
       "  </thead>\n",
       "  <tbody>\n",
       "    <tr>\n",
       "      <th>0.985971</th>\n",
       "      <td>None</td>\n",
       "      <td>0.5</td>\n",
       "      <td>l2</td>\n",
       "      <td>0.997123</td>\n",
       "    </tr>\n",
       "    <tr>\n",
       "      <th>0.985408</th>\n",
       "      <td>None</td>\n",
       "      <td>1</td>\n",
       "      <td>l2</td>\n",
       "      <td>0.996995</td>\n",
       "    </tr>\n",
       "    <tr>\n",
       "      <th>0.985408</th>\n",
       "      <td>None</td>\n",
       "      <td>2</td>\n",
       "      <td>l2</td>\n",
       "      <td>0.996875</td>\n",
       "    </tr>\n",
       "    <tr>\n",
       "      <th>0.983658</th>\n",
       "      <td>None</td>\n",
       "      <td>0.5</td>\n",
       "      <td>l1</td>\n",
       "      <td>0.996922</td>\n",
       "    </tr>\n",
       "    <tr>\n",
       "      <th>0.982827</th>\n",
       "      <td>None</td>\n",
       "      <td>1</td>\n",
       "      <td>l1</td>\n",
       "      <td>0.996644</td>\n",
       "    </tr>\n",
       "    <tr>\n",
       "      <th>0.982501</th>\n",
       "      <td>2000</td>\n",
       "      <td>0.5</td>\n",
       "      <td>l2</td>\n",
       "      <td>0.996226</td>\n",
       "    </tr>\n",
       "    <tr>\n",
       "      <th>0.982323</th>\n",
       "      <td>None</td>\n",
       "      <td>2</td>\n",
       "      <td>l1</td>\n",
       "      <td>0.996451</td>\n",
       "    </tr>\n",
       "    <tr>\n",
       "      <th>0.981908</th>\n",
       "      <td>2000</td>\n",
       "      <td>1</td>\n",
       "      <td>l2</td>\n",
       "      <td>0.995918</td>\n",
       "    </tr>\n",
       "    <tr>\n",
       "      <th>0.981492</th>\n",
       "      <td>2000</td>\n",
       "      <td>0.5</td>\n",
       "      <td>l1</td>\n",
       "      <td>0.996486</td>\n",
       "    </tr>\n",
       "    <tr>\n",
       "      <th>0.981226</th>\n",
       "      <td>2000</td>\n",
       "      <td>2</td>\n",
       "      <td>l2</td>\n",
       "      <td>0.995684</td>\n",
       "    </tr>\n",
       "    <tr>\n",
       "      <th>0.980573</th>\n",
       "      <td>2000</td>\n",
       "      <td>1</td>\n",
       "      <td>l1</td>\n",
       "      <td>0.995972</td>\n",
       "    </tr>\n",
       "    <tr>\n",
       "      <th>0.979001</th>\n",
       "      <td>2000</td>\n",
       "      <td>2</td>\n",
       "      <td>l1</td>\n",
       "      <td>0.995395</td>\n",
       "    </tr>\n",
       "    <tr>\n",
       "      <th>0.968828</th>\n",
       "      <td>500</td>\n",
       "      <td>0.5</td>\n",
       "      <td>l2</td>\n",
       "      <td>0.993424</td>\n",
       "    </tr>\n",
       "    <tr>\n",
       "      <th>0.968798</th>\n",
       "      <td>500</td>\n",
       "      <td>2</td>\n",
       "      <td>l1</td>\n",
       "      <td>0.993454</td>\n",
       "    </tr>\n",
       "    <tr>\n",
       "      <th>0.968709</th>\n",
       "      <td>500</td>\n",
       "      <td>1</td>\n",
       "      <td>l1</td>\n",
       "      <td>0.993496</td>\n",
       "    </tr>\n",
       "    <tr>\n",
       "      <th>0.968709</th>\n",
       "      <td>500</td>\n",
       "      <td>1</td>\n",
       "      <td>l2</td>\n",
       "      <td>0.993440</td>\n",
       "    </tr>\n",
       "    <tr>\n",
       "      <th>0.968680</th>\n",
       "      <td>500</td>\n",
       "      <td>0.5</td>\n",
       "      <td>l1</td>\n",
       "      <td>0.993556</td>\n",
       "    </tr>\n",
       "    <tr>\n",
       "      <th>0.968650</th>\n",
       "      <td>500</td>\n",
       "      <td>2</td>\n",
       "      <td>l2</td>\n",
       "      <td>0.993426</td>\n",
       "    </tr>\n",
       "  </tbody>\n",
       "</table>\n",
       "</div>"
      ],
      "text/plain": [
       "                   param_cv__max_features param_svm__C param_svm__penalty  \\\n",
       "Sorted by accuracy                                                          \n",
       "0.985971                             None          0.5                 l2   \n",
       "0.985408                             None            1                 l2   \n",
       "0.985408                             None            2                 l2   \n",
       "0.983658                             None          0.5                 l1   \n",
       "0.982827                             None            1                 l1   \n",
       "0.982501                             2000          0.5                 l2   \n",
       "0.982323                             None            2                 l1   \n",
       "0.981908                             2000            1                 l2   \n",
       "0.981492                             2000          0.5                 l1   \n",
       "0.981226                             2000            2                 l2   \n",
       "0.980573                             2000            1                 l1   \n",
       "0.979001                             2000            2                 l1   \n",
       "0.968828                              500          0.5                 l2   \n",
       "0.968798                              500            2                 l1   \n",
       "0.968709                              500            1                 l1   \n",
       "0.968709                              500            1                 l2   \n",
       "0.968680                              500          0.5                 l1   \n",
       "0.968650                              500            2                 l2   \n",
       "\n",
       "                    mean_test_roc_auc  \n",
       "Sorted by accuracy                     \n",
       "0.985971                     0.997123  \n",
       "0.985408                     0.996995  \n",
       "0.985408                     0.996875  \n",
       "0.983658                     0.996922  \n",
       "0.982827                     0.996644  \n",
       "0.982501                     0.996226  \n",
       "0.982323                     0.996451  \n",
       "0.981908                     0.995918  \n",
       "0.981492                     0.996486  \n",
       "0.981226                     0.995684  \n",
       "0.980573                     0.995972  \n",
       "0.979001                     0.995395  \n",
       "0.968828                     0.993424  \n",
       "0.968798                     0.993454  \n",
       "0.968709                     0.993496  \n",
       "0.968709                     0.993440  \n",
       "0.968680                     0.993556  \n",
       "0.968650                     0.993426  "
      ]
     },
     "execution_count": 88,
     "metadata": {},
     "output_type": "execute_result"
    }
   ],
   "source": [
    "cv_results_df_svm_sk_coarse.sort_values('mean_test_accuracy',ascending=False).loc[:,['param_cv__max_features', 'param_svm__C', 'param_svm__penalty','mean_test_roc_auc','mean_test_accuracy']].set_index('mean_test_accuracy').rename_axis('Sorted by accuracy')"
   ]
  },
  {
   "cell_type": "markdown",
   "metadata": {},
   "source": [
    ">**`max_features=None` and `penalty='l2'` generally perform better. Thus, the next fine search will focus on the search of optimal regularization parameter `C` given `max_features=None` and `penalty='l2'`.**"
   ]
  },
  {
   "cell_type": "markdown",
   "metadata": {},
   "source": [
    "#### Fine search"
   ]
  },
  {
   "cell_type": "code",
   "execution_count": 89,
   "metadata": {},
   "outputs": [],
   "source": [
    "C_option_svm_sk_fine=10**np.arange(-3,1,0.5)\n",
    "pipeline_svm_sk_fine=Pipeline([('cv',CountVectorizer(stop_words='english',max_df=0.5,min_df=2)),('svm',LinearSVC(max_iter=100000,loss='squared_hinge',dual=False))])\n",
    "parameters_pipeline_svm_sk_fine={'svm__C':C_option_svm_sk_fine}"
   ]
  },
  {
   "cell_type": "code",
   "execution_count": 90,
   "metadata": {},
   "outputs": [],
   "source": [
    "grid_search_svm_sk_fine=GridSearchCV(pipeline_svm_sk_fine,parameters_pipeline_svm_sk_fine,n_jobs=-1,cv=k_fold,verbose=3,scoring=['roc_auc','accuracy'],refit=False)"
   ]
  },
  {
   "cell_type": "code",
   "execution_count": 91,
   "metadata": {},
   "outputs": [
    {
     "name": "stdout",
     "output_type": "stream",
     "text": [
      "Fitting 5 folds for each of 8 candidates, totalling 40 fits\n",
      "[CV 2/5] END svm__C=0.001; accuracy: (test=0.976) roc_auc: (test=0.997) total time=   6.9s\n",
      "[CV 3/5] END svm__C=0.001; accuracy: (test=0.977) roc_auc: (test=0.997) total time=   7.5s\n",
      "[CV 4/5] END svm__C=0.001; accuracy: (test=0.979) roc_auc: (test=0.998) total time=   8.1s\n",
      "[CV 1/5] END svm__C=0.001; accuracy: (test=0.977) roc_auc: (test=0.996) total time=   8.5s\n",
      "[CV 1/5] END svm__C=0.0031622776601683794; accuracy: (test=0.982) roc_auc: (test=0.997) total time=   8.1s\n",
      "[CV 5/5] END svm__C=0.001; accuracy: (test=0.978) roc_auc: (test=0.997) total time=   8.3s\n",
      "[CV 2/5] END svm__C=0.0031622776601683794; accuracy: (test=0.979) roc_auc: (test=0.997) total time=   8.9s\n",
      "[CV 5/5] END svm__C=0.0031622776601683794; accuracy: (test=0.984) roc_auc: (test=0.998) total time=   9.8s\n",
      "[CV 4/5] END svm__C=0.0031622776601683794; accuracy: (test=0.984) roc_auc: (test=0.998) total time=  10.0s\n",
      "[CV 3/5] END svm__C=0.0031622776601683794; accuracy: (test=0.983) roc_auc: (test=0.998) total time=  10.2s\n",
      "[CV 3/5] END svm__C=0.01; accuracy: (test=0.987) roc_auc: (test=0.998) total time=  11.2s\n",
      "[CV 1/5] END svm__C=0.01; accuracy: (test=0.984) roc_auc: (test=0.997) total time=  12.0s\n",
      "[CV 2/5] END svm__C=0.01; accuracy: (test=0.983) roc_auc: (test=0.998) total time=  16.2s\n",
      "[CV 2/5] END svm__C=1.0; accuracy: (test=0.985) roc_auc: (test=0.997) total time=  15.9s\n",
      "[CV 5/5] END svm__C=0.01; accuracy: (test=0.986) roc_auc: (test=0.998) total time=  21.6s\n",
      "[CV 4/5] END svm__C=0.01; accuracy: (test=0.988) roc_auc: (test=0.998) total time=  22.2s\n",
      "[CV 2/5] END svm__C=0.03162277660168379; accuracy: (test=0.985) roc_auc: (test=0.998) total time=  26.3s\n",
      "[CV 2/5] END svm__C=0.31622776601683794; accuracy: (test=0.986) roc_auc: (test=0.997) total time=  25.6s\n",
      "[CV 2/5] END svm__C=3.1622776601683795; accuracy: (test=0.984) roc_auc: (test=0.997) total time=  25.6s\n",
      "[CV 1/5] END svm__C=0.03162277660168379; accuracy: (test=0.987) roc_auc: (test=0.997) total time=  32.7s\n",
      "[CV 3/5] END svm__C=0.03162277660168379; accuracy: (test=0.987) roc_auc: (test=0.998) total time=  36.0s\n",
      "[CV 2/5] END svm__C=0.1; accuracy: (test=0.986) roc_auc: (test=0.997) total time=  40.0s\n",
      "[CV 1/5] END svm__C=3.1622776601683795; accuracy: (test=0.984) roc_auc: (test=0.996) total time=  43.0s\n",
      "[CV 3/5] END svm__C=1.0; accuracy: (test=0.986) roc_auc: (test=0.997) total time=  48.2s\n",
      "[CV 3/5] END svm__C=3.1622776601683795; accuracy: (test=0.985) roc_auc: (test=0.997) total time=  46.6s\n",
      "[CV 5/5] END svm__C=0.03162277660168379; accuracy: (test=0.987) roc_auc: (test=0.998) total time=  53.6s\n",
      "[CV 1/5] END svm__C=1.0; accuracy: (test=0.984) roc_auc: (test=0.996) total time=  52.3s\n",
      "[CV 4/5] END svm__C=1.0; accuracy: (test=0.987) roc_auc: (test=0.997) total time=  54.3s\n",
      "[CV 4/5] END svm__C=3.1622776601683795; accuracy: (test=0.987) roc_auc: (test=0.997) total time=  53.0s\n",
      "[CV 4/5] END svm__C=0.03162277660168379; accuracy: (test=0.988) roc_auc: (test=0.998) total time= 1.1min\n",
      "[CV 3/5] END svm__C=0.31622776601683794; accuracy: (test=0.986) roc_auc: (test=0.997) total time= 1.4min\n",
      "[CV 4/5] END svm__C=0.1; accuracy: (test=0.988) roc_auc: (test=0.998) total time= 1.5min\n",
      "[CV 4/5] END svm__C=0.31622776601683794; accuracy: (test=0.988) roc_auc: (test=0.998) total time= 1.5min\n",
      "[CV 5/5] END svm__C=3.1622776601683795; accuracy: (test=0.985) roc_auc: (test=0.997) total time= 1.4min\n",
      "[CV 3/5] END svm__C=0.1; accuracy: (test=0.987) roc_auc: (test=0.998) total time= 1.6min\n",
      "[CV 5/5] END svm__C=0.1; accuracy: (test=0.987) roc_auc: (test=0.998) total time= 1.6min\n",
      "[CV 1/5] END svm__C=0.1; accuracy: (test=0.987) roc_auc: (test=0.997) total time= 1.8min\n",
      "[CV 5/5] END svm__C=1.0; accuracy: (test=0.985) roc_auc: (test=0.997) total time= 1.9min\n",
      "[CV 1/5] END svm__C=0.31622776601683794; accuracy: (test=0.986) roc_auc: (test=0.997) total time= 2.1min\n",
      "[CV 5/5] END svm__C=0.31622776601683794; accuracy: (test=0.987) roc_auc: (test=0.998) total time= 2.4min\n"
     ]
    },
    {
     "data": {
      "text/plain": [
       "GridSearchCV(cv=StratifiedKFold(n_splits=5, random_state=42, shuffle=True),\n",
       "             estimator=Pipeline(steps=[('cv',\n",
       "                                        CountVectorizer(max_df=0.5, min_df=2,\n",
       "                                                        stop_words='english')),\n",
       "                                       ('svm',\n",
       "                                        LinearSVC(dual=False,\n",
       "                                                  max_iter=100000))]),\n",
       "             n_jobs=-1,\n",
       "             param_grid={'svm__C': array([1.00000000e-03, 3.16227766e-03, 1.00000000e-02, 3.16227766e-02,\n",
       "       1.00000000e-01, 3.16227766e-01, 1.00000000e+00, 3.16227766e+00])},\n",
       "             refit=False, scoring=['roc_auc', 'accuracy'], verbose=3)"
      ]
     },
     "execution_count": 91,
     "metadata": {},
     "output_type": "execute_result"
    }
   ],
   "source": [
    "grid_search_svm_sk_fine.fit(emails_clean,labels)"
   ]
  },
  {
   "cell_type": "code",
   "execution_count": 92,
   "metadata": {},
   "outputs": [],
   "source": [
    "cv_results_df_svm_sk_fine=pd.DataFrame(grid_search_svm_sk_fine.cv_results_)"
   ]
  },
  {
   "cell_type": "code",
   "execution_count": 93,
   "metadata": {},
   "outputs": [
    {
     "data": {
      "text/html": [
       "<div>\n",
       "<style scoped>\n",
       "    .dataframe tbody tr th:only-of-type {\n",
       "        vertical-align: middle;\n",
       "    }\n",
       "\n",
       "    .dataframe tbody tr th {\n",
       "        vertical-align: top;\n",
       "    }\n",
       "\n",
       "    .dataframe thead th {\n",
       "        text-align: right;\n",
       "    }\n",
       "</style>\n",
       "<table border=\"1\" class=\"dataframe\">\n",
       "  <thead>\n",
       "    <tr style=\"text-align: right;\">\n",
       "      <th></th>\n",
       "      <th>params</th>\n",
       "      <th>mean_test_accuracy</th>\n",
       "    </tr>\n",
       "    <tr>\n",
       "      <th>Sorted by AUC</th>\n",
       "      <th></th>\n",
       "      <th></th>\n",
       "    </tr>\n",
       "  </thead>\n",
       "  <tbody>\n",
       "    <tr>\n",
       "      <th>0.997915</th>\n",
       "      <td>{'svm__C': 0.01}</td>\n",
       "      <td>0.985467</td>\n",
       "    </tr>\n",
       "    <tr>\n",
       "      <th>0.997854</th>\n",
       "      <td>{'svm__C': 0.03162277660168379}</td>\n",
       "      <td>0.986802</td>\n",
       "    </tr>\n",
       "    <tr>\n",
       "      <th>0.997671</th>\n",
       "      <td>{'svm__C': 0.0031622776601683794}</td>\n",
       "      <td>0.982323</td>\n",
       "    </tr>\n",
       "    <tr>\n",
       "      <th>0.997582</th>\n",
       "      <td>{'svm__C': 0.1}</td>\n",
       "      <td>0.987128</td>\n",
       "    </tr>\n",
       "    <tr>\n",
       "      <th>0.997230</th>\n",
       "      <td>{'svm__C': 0.31622776601683794}</td>\n",
       "      <td>0.986505</td>\n",
       "    </tr>\n",
       "    <tr>\n",
       "      <th>0.997076</th>\n",
       "      <td>{'svm__C': 0.001}</td>\n",
       "      <td>0.977488</td>\n",
       "    </tr>\n",
       "    <tr>\n",
       "      <th>0.996995</th>\n",
       "      <td>{'svm__C': 1.0}</td>\n",
       "      <td>0.985408</td>\n",
       "    </tr>\n",
       "    <tr>\n",
       "      <th>0.996848</th>\n",
       "      <td>{'svm__C': 3.1622776601683795}</td>\n",
       "      <td>0.985259</td>\n",
       "    </tr>\n",
       "  </tbody>\n",
       "</table>\n",
       "</div>"
      ],
      "text/plain": [
       "                                          params  mean_test_accuracy\n",
       "Sorted by AUC                                                       \n",
       "0.997915                        {'svm__C': 0.01}            0.985467\n",
       "0.997854         {'svm__C': 0.03162277660168379}            0.986802\n",
       "0.997671       {'svm__C': 0.0031622776601683794}            0.982323\n",
       "0.997582                         {'svm__C': 0.1}            0.987128\n",
       "0.997230         {'svm__C': 0.31622776601683794}            0.986505\n",
       "0.997076                       {'svm__C': 0.001}            0.977488\n",
       "0.996995                         {'svm__C': 1.0}            0.985408\n",
       "0.996848          {'svm__C': 3.1622776601683795}            0.985259"
      ]
     },
     "execution_count": 93,
     "metadata": {},
     "output_type": "execute_result"
    }
   ],
   "source": [
    "cv_results_df_svm_sk_fine.sort_values('mean_test_roc_auc',ascending=False).loc[:,['params','mean_test_roc_auc','mean_test_accuracy']].set_index('mean_test_roc_auc').rename_axis('Sorted by AUC')"
   ]
  },
  {
   "cell_type": "code",
   "execution_count": 94,
   "metadata": {},
   "outputs": [
    {
     "data": {
      "text/html": [
       "<div>\n",
       "<style scoped>\n",
       "    .dataframe tbody tr th:only-of-type {\n",
       "        vertical-align: middle;\n",
       "    }\n",
       "\n",
       "    .dataframe tbody tr th {\n",
       "        vertical-align: top;\n",
       "    }\n",
       "\n",
       "    .dataframe thead th {\n",
       "        text-align: right;\n",
       "    }\n",
       "</style>\n",
       "<table border=\"1\" class=\"dataframe\">\n",
       "  <thead>\n",
       "    <tr style=\"text-align: right;\">\n",
       "      <th></th>\n",
       "      <th>params</th>\n",
       "      <th>mean_test_roc_auc</th>\n",
       "    </tr>\n",
       "    <tr>\n",
       "      <th>Sorted by accuracy</th>\n",
       "      <th></th>\n",
       "      <th></th>\n",
       "    </tr>\n",
       "  </thead>\n",
       "  <tbody>\n",
       "    <tr>\n",
       "      <th>0.987128</th>\n",
       "      <td>{'svm__C': 0.1}</td>\n",
       "      <td>0.997582</td>\n",
       "    </tr>\n",
       "    <tr>\n",
       "      <th>0.986802</th>\n",
       "      <td>{'svm__C': 0.03162277660168379}</td>\n",
       "      <td>0.997854</td>\n",
       "    </tr>\n",
       "    <tr>\n",
       "      <th>0.986505</th>\n",
       "      <td>{'svm__C': 0.31622776601683794}</td>\n",
       "      <td>0.997230</td>\n",
       "    </tr>\n",
       "    <tr>\n",
       "      <th>0.985467</th>\n",
       "      <td>{'svm__C': 0.01}</td>\n",
       "      <td>0.997915</td>\n",
       "    </tr>\n",
       "    <tr>\n",
       "      <th>0.985408</th>\n",
       "      <td>{'svm__C': 1.0}</td>\n",
       "      <td>0.996995</td>\n",
       "    </tr>\n",
       "    <tr>\n",
       "      <th>0.985259</th>\n",
       "      <td>{'svm__C': 3.1622776601683795}</td>\n",
       "      <td>0.996848</td>\n",
       "    </tr>\n",
       "    <tr>\n",
       "      <th>0.982323</th>\n",
       "      <td>{'svm__C': 0.0031622776601683794}</td>\n",
       "      <td>0.997671</td>\n",
       "    </tr>\n",
       "    <tr>\n",
       "      <th>0.977488</th>\n",
       "      <td>{'svm__C': 0.001}</td>\n",
       "      <td>0.997076</td>\n",
       "    </tr>\n",
       "  </tbody>\n",
       "</table>\n",
       "</div>"
      ],
      "text/plain": [
       "                                               params  mean_test_roc_auc\n",
       "Sorted by accuracy                                                      \n",
       "0.987128                              {'svm__C': 0.1}           0.997582\n",
       "0.986802              {'svm__C': 0.03162277660168379}           0.997854\n",
       "0.986505              {'svm__C': 0.31622776601683794}           0.997230\n",
       "0.985467                             {'svm__C': 0.01}           0.997915\n",
       "0.985408                              {'svm__C': 1.0}           0.996995\n",
       "0.985259               {'svm__C': 3.1622776601683795}           0.996848\n",
       "0.982323            {'svm__C': 0.0031622776601683794}           0.997671\n",
       "0.977488                            {'svm__C': 0.001}           0.997076"
      ]
     },
     "execution_count": 94,
     "metadata": {},
     "output_type": "execute_result"
    }
   ],
   "source": [
    "cv_results_df_svm_sk_fine.sort_values('mean_test_accuracy',ascending=False).loc[:,['params','mean_test_roc_auc','mean_test_accuracy']].set_index('mean_test_accuracy').rename_axis('Sorted by accuracy')"
   ]
  },
  {
   "cell_type": "code",
   "execution_count": 95,
   "metadata": {},
   "outputs": [
    {
     "data": {
      "image/png": "[encoded data removed]",
      "text/plain": [
       "<Figure size 432x288 with 2 Axes>"
      ]
     },
     "metadata": {
      "needs_background": "light"
     },
     "output_type": "display_data"
    }
   ],
   "source": [
    "fig,ax=plt.subplots()\n",
    "ax.plot(cv_results_df_svm_sk_fine['param_svm__C'],cv_results_df_svm_sk_fine['mean_test_roc_auc'],'r')\n",
    "ax1=ax.twinx()\n",
    "ax1.plot(cv_results_df_svm_sk_fine['param_svm__C'],cv_results_df_svm_sk_fine['mean_test_accuracy'],'b')\n",
    "ax.set_ylabel('ROC_AUC')\n",
    "ax1.set_ylabel('Accuracy')\n",
    "ax.set_xlabel('C')\n",
    "ax.tick_params(axis='y', labelcolor='r')\n",
    "ax1.tick_params(axis='y', labelcolor='b')\n",
    "ax.set_xscale('log')\n"
   ]
  },
  {
   "cell_type": "markdown",
   "metadata": {},
   "source": [
    ">**In SVM model, the optimal parameter is chosen at `max_features=None` and L2 regulariztion with `C=0.1` because the variance of AUC of ROC is relatively small while the accuracy significantly peaks at `C=0.1`.**"
   ]
  },
  {
   "cell_type": "code",
   "execution_count": 96,
   "metadata": {},
   "outputs": [
    {
     "name": "stdout",
     "output_type": "stream",
     "text": [
      "Best esimate of ROC_AUC: 0.9976\n",
      "Best esimate of accuracy: 0.9871\n"
     ]
    }
   ],
   "source": [
    "best_auc_svm_sk,best_acc_svm_sk=cv_results_df_svm_sk_fine['mean_test_roc_auc'].iloc[4],cv_results_df_svm_sk_fine['mean_test_accuracy'].iloc[4]\n",
    "print('Best esimate of ROC_AUC: {:.4f}'.format(best_auc_svm_sk))\n",
    "print('Best esimate of accuracy: {:.4f}'.format(best_acc_svm_sk))"
   ]
  },
  {
   "cell_type": "markdown",
   "metadata": {},
   "source": [
    "# Summary: comparsion between naive Bayes and SVM "
   ]
  },
  {
   "cell_type": "code",
   "execution_count": 97,
   "metadata": {},
   "outputs": [],
   "source": [
    "summary=pd.DataFrame({'model':['Bayes from scratch','Bayes from MultinomialNB','SVM from LinearSVC'],'best_parameters':['max_features=None,smoothing=0.01', 'max_features=None,smoothing=0.01', 'max_features=None,kernel=linear,penalty=L2,C=0.1'],'best_ROC_AUC':[best_auc_bayes,best_auc_bayes_sk,best_auc_svm_sk],'best_accuracy':[best_acc_bayes,best_acc_bayes_sk,best_acc_svm_sk]}).set_index('model')"
   ]
  },
  {
   "cell_type": "code",
   "execution_count": 98,
   "metadata": {},
   "outputs": [
    {
     "data": {
      "text/html": [
       "<div>\n",
       "<style scoped>\n",
       "    .dataframe tbody tr th:only-of-type {\n",
       "        vertical-align: middle;\n",
       "    }\n",
       "\n",
       "    .dataframe tbody tr th {\n",
       "        vertical-align: top;\n",
       "    }\n",
       "\n",
       "    .dataframe thead th {\n",
       "        text-align: right;\n",
       "    }\n",
       "</style>\n",
       "<table border=\"1\" class=\"dataframe\">\n",
       "  <thead>\n",
       "    <tr style=\"text-align: right;\">\n",
       "      <th></th>\n",
       "      <th>best_parameters</th>\n",
       "      <th>best_ROC_AUC</th>\n",
       "      <th>best_accuracy</th>\n",
       "    </tr>\n",
       "    <tr>\n",
       "      <th>model</th>\n",
       "      <th></th>\n",
       "      <th></th>\n",
       "      <th></th>\n",
       "    </tr>\n",
       "  </thead>\n",
       "  <tbody>\n",
       "    <tr>\n",
       "      <th>Bayes from scratch</th>\n",
       "      <td>max_features=None,smoothing=0.01</td>\n",
       "      <td>0.997092</td>\n",
       "      <td>0.987276</td>\n",
       "    </tr>\n",
       "    <tr>\n",
       "      <th>Bayes from MultinomialNB</th>\n",
       "      <td>max_features=None,smoothing=0.01</td>\n",
       "      <td>0.996957</td>\n",
       "      <td>0.987276</td>\n",
       "    </tr>\n",
       "    <tr>\n",
       "      <th>SVM from LinearSVC</th>\n",
       "      <td>max_features=None,kernel=linear,penalty=L2,C=0.1</td>\n",
       "      <td>0.997582</td>\n",
       "      <td>0.987128</td>\n",
       "    </tr>\n",
       "  </tbody>\n",
       "</table>\n",
       "</div>"
      ],
      "text/plain": [
       "                                                           best_parameters  \\\n",
       "model                                                                        \n",
       "Bayes from scratch                        max_features=None,smoothing=0.01   \n",
       "Bayes from MultinomialNB                  max_features=None,smoothing=0.01   \n",
       "SVM from LinearSVC        max_features=None,kernel=linear,penalty=L2,C=0.1   \n",
       "\n",
       "                          best_ROC_AUC  best_accuracy  \n",
       "model                                                  \n",
       "Bayes from scratch            0.997092       0.987276  \n",
       "Bayes from MultinomialNB      0.996957       0.987276  \n",
       "SVM from LinearSVC            0.997582       0.987128  "
      ]
     },
     "execution_count": 98,
     "metadata": {},
     "output_type": "execute_result"
    }
   ],
   "source": [
    "summary"
   ]
  },
  {
   "cell_type": "code",
   "execution_count": 99,
   "metadata": {},
   "outputs": [
    {
     "name": "stdout",
     "output_type": "stream",
     "text": [
      "| model                    | best_parameters                                  |   best_ROC_AUC |   best_accuracy |\n",
      "|--------------------------|--------------------------------------------------|----------------|-----------------|\n",
      "| Bayes from scratch       | max_features=None,smoothing=0.01                 |       0.997092 |        0.987276 |\n",
      "| Bayes from MultinomialNB | max_features=None,smoothing=0.01                 |       0.996957 |        0.987276 |\n",
      "| SVM from LinearSVC       | max_features=None,kernel=linear,penalty=L2,C=0.1 |       0.997582 |        0.987128 |\n"
     ]
    }
   ],
   "source": [
    "print(summary.to_markdown(tablefmt='github'))"
   ]
  }
 ],
 "metadata": {
  "interpreter": {
   "hash": "8763e5ea16b716ad1eeffeab5f34109bd722594d0305e114e3d37565ed57b2a4"
  },
  "kernelspec": {
   "display_name": "Python 3.8.11 ('base')",
   "language": "python",
   "name": "python3"
  },
  "language_info": {
   "codemirror_mode": {
    "name": "ipython",
    "version": 3
   },
   "file_extension": ".py",
   "mimetype": "text/x-python",
   "name": "python",
   "nbconvert_exporter": "python",
   "pygments_lexer": "ipython3",
   "version": "3.8.11"
  },
  "orig_nbformat": 4
 },
 "nbformat": 4,
 "nbformat_minor": 2
}
